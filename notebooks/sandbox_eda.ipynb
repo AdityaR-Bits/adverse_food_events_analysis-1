{
 "cells": [
  {
   "cell_type": "code",
   "execution_count": 4,
   "metadata": {},
   "outputs": [],
   "source": [
    "import pandas as pd\n",
    "from pathlib import Path"
   ]
  },
  {
   "cell_type": "code",
   "execution_count": 80,
   "metadata": {},
   "outputs": [
    {
     "name": "stderr",
     "output_type": "stream",
     "text": [
      "C:\\Users\\Rajasvi\\Anaconda3\\envs\\ece143\\lib\\site-packages\\IPython\\core\\interactiveshell.py:3441: DtypeWarning: Columns (1,6) have mixed types.Specify dtype option on import or set low_memory=False.\n",
      "  exec(code_obj, self.user_global_ns, self.user_ns)\n"
     ]
    },
    {
     "data": {
      "text/html": [
       "<div>\n",
       "<style scoped>\n",
       "    .dataframe tbody tr th:only-of-type {\n",
       "        vertical-align: middle;\n",
       "    }\n",
       "\n",
       "    .dataframe tbody tr th {\n",
       "        vertical-align: top;\n",
       "    }\n",
       "\n",
       "    .dataframe thead th {\n",
       "        text-align: right;\n",
       "    }\n",
       "</style>\n",
       "<table border=\"1\" class=\"dataframe\">\n",
       "  <thead>\n",
       "    <tr style=\"text-align: right;\">\n",
       "      <th></th>\n",
       "      <th>report_id</th>\n",
       "      <th>caers_created_date</th>\n",
       "      <th>date_of_event</th>\n",
       "      <th>product_type</th>\n",
       "      <th>product</th>\n",
       "      <th>product_code</th>\n",
       "      <th>description</th>\n",
       "      <th>patient_age</th>\n",
       "      <th>age_units</th>\n",
       "      <th>sex</th>\n",
       "      <th>medra_preferred_terms</th>\n",
       "      <th>outcomes</th>\n",
       "    </tr>\n",
       "  </thead>\n",
       "  <tbody>\n",
       "    <tr>\n",
       "      <th>0</th>\n",
       "      <td>172934</td>\n",
       "      <td>1/1/2014</td>\n",
       "      <td>12/5/2013</td>\n",
       "      <td>SUSPECT</td>\n",
       "      <td>VALUED NATIONAL PINE NUTS</td>\n",
       "      <td>23</td>\n",
       "      <td>Nuts/Edible Seed</td>\n",
       "      <td>NaN</td>\n",
       "      <td>NaN</td>\n",
       "      <td>NaN</td>\n",
       "      <td>DYSGEUSIA, HYPERSENSITIVITY</td>\n",
       "      <td>Other Outcome</td>\n",
       "    </tr>\n",
       "    <tr>\n",
       "      <th>1</th>\n",
       "      <td>172937</td>\n",
       "      <td>1/1/2014</td>\n",
       "      <td>NaN</td>\n",
       "      <td>SUSPECT</td>\n",
       "      <td>DAVID'S SUNFLOWER SEEDS, RANCH FLAVORED</td>\n",
       "      <td>23</td>\n",
       "      <td>Nuts/Edible Seed</td>\n",
       "      <td>NaN</td>\n",
       "      <td>NaN</td>\n",
       "      <td>NaN</td>\n",
       "      <td>PAIN, MUCOSAL ULCERATION, TENDERNESS, BURNING ...</td>\n",
       "      <td>Hospitalization, Patient Visited Healthcare Pr...</td>\n",
       "    </tr>\n",
       "    <tr>\n",
       "      <th>2</th>\n",
       "      <td>172939</td>\n",
       "      <td>1/1/2014</td>\n",
       "      <td>NaN</td>\n",
       "      <td>SUSPECT</td>\n",
       "      <td>KASHI WHOLE WHEAT BISCUITS, ISLAND VANILLA</td>\n",
       "      <td>5</td>\n",
       "      <td>Cereal Prep/Breakfast Food</td>\n",
       "      <td>NaN</td>\n",
       "      <td>NaN</td>\n",
       "      <td>NaN</td>\n",
       "      <td>VOMITING, ABDOMINAL PAIN, FEELING OF BODY TEMP...</td>\n",
       "      <td>Other Outcome</td>\n",
       "    </tr>\n",
       "    <tr>\n",
       "      <th>3</th>\n",
       "      <td>172940</td>\n",
       "      <td>1/1/2014</td>\n",
       "      <td>NaN</td>\n",
       "      <td>SUSPECT</td>\n",
       "      <td>DANNON DANNON LITE &amp; FIT GREEK YOGURT CHERRY</td>\n",
       "      <td>9</td>\n",
       "      <td>Milk/Butter/Dried Milk Prod</td>\n",
       "      <td>NaN</td>\n",
       "      <td>NaN</td>\n",
       "      <td>NaN</td>\n",
       "      <td>NAUSEA</td>\n",
       "      <td>Other Outcome</td>\n",
       "    </tr>\n",
       "    <tr>\n",
       "      <th>4</th>\n",
       "      <td>172941</td>\n",
       "      <td>1/1/2014</td>\n",
       "      <td>12/16/2013</td>\n",
       "      <td>SUSPECT</td>\n",
       "      <td>COPPER RIVER KIPPERED ALASKA SILVER SALMON</td>\n",
       "      <td>16</td>\n",
       "      <td>Fishery/Seafood Prod</td>\n",
       "      <td>NaN</td>\n",
       "      <td>NaN</td>\n",
       "      <td>NaN</td>\n",
       "      <td>LACERATION</td>\n",
       "      <td>Other Outcome</td>\n",
       "    </tr>\n",
       "  </tbody>\n",
       "</table>\n",
       "</div>"
      ],
      "text/plain": [
       "  report_id caers_created_date date_of_event product_type  \\\n",
       "0    172934           1/1/2014     12/5/2013      SUSPECT   \n",
       "1    172937           1/1/2014           NaN      SUSPECT   \n",
       "2    172939           1/1/2014           NaN      SUSPECT   \n",
       "3    172940           1/1/2014           NaN      SUSPECT   \n",
       "4    172941           1/1/2014    12/16/2013      SUSPECT   \n",
       "\n",
       "                                        product product_code  \\\n",
       "0                     VALUED NATIONAL PINE NUTS           23   \n",
       "1       DAVID'S SUNFLOWER SEEDS, RANCH FLAVORED           23   \n",
       "2    KASHI WHOLE WHEAT BISCUITS, ISLAND VANILLA            5   \n",
       "3  DANNON DANNON LITE & FIT GREEK YOGURT CHERRY            9   \n",
       "4    COPPER RIVER KIPPERED ALASKA SILVER SALMON           16   \n",
       "\n",
       "                   description  patient_age age_units  sex  \\\n",
       "0             Nuts/Edible Seed          NaN       NaN  NaN   \n",
       "1             Nuts/Edible Seed          NaN       NaN  NaN   \n",
       "2   Cereal Prep/Breakfast Food          NaN       NaN  NaN   \n",
       "3  Milk/Butter/Dried Milk Prod          NaN       NaN  NaN   \n",
       "4         Fishery/Seafood Prod          NaN       NaN  NaN   \n",
       "\n",
       "                               medra_preferred_terms  \\\n",
       "0                        DYSGEUSIA, HYPERSENSITIVITY   \n",
       "1  PAIN, MUCOSAL ULCERATION, TENDERNESS, BURNING ...   \n",
       "2  VOMITING, ABDOMINAL PAIN, FEELING OF BODY TEMP...   \n",
       "3                                             NAUSEA   \n",
       "4                                         LACERATION   \n",
       "\n",
       "                                            outcomes  \n",
       "0                                      Other Outcome  \n",
       "1  Hospitalization, Patient Visited Healthcare Pr...  \n",
       "2                                      Other Outcome  \n",
       "3                                      Other Outcome  \n",
       "4                                      Other Outcome  "
      ]
     },
     "execution_count": 80,
     "metadata": {},
     "output_type": "execute_result"
    }
   ],
   "source": [
    "df=pd.read_csv(\"../data/processed/clean_data.csv\",index_col=0)\n",
    "df.head()"
   ]
  },
  {
   "cell_type": "code",
   "execution_count": 65,
   "metadata": {},
   "outputs": [
    {
     "data": {
      "text/plain": [
       "131261"
      ]
     },
     "execution_count": 65,
     "metadata": {},
     "output_type": "execute_result"
    }
   ],
   "source": [
    "raw_dir = Path(\"../data/raw/\")\n",
    "\n",
    "aggReports=None\n",
    "\n",
    "def clean_data(x):\n",
    "    if isinstance(x,str):\n",
    "        x=x.strip()\n",
    "    return x\n",
    "    \n",
    "\n",
    "for p in list(raw_dir.glob(\"*.csv\")):\n",
    "    curr_df = pd.read_csv(p,encoding=\"unicode_escape\")\n",
    "    \n",
    "    column_map = { x:x.lower().replace(\" \",\"_\") for x in curr_df.columns}\n",
    "    curr_df=curr_df.rename(columns=column_map)\n",
    "    curr_df=curr_df.rename(columns={\"meddra_preferred_terms\":\"medra_preferred_terms\"})\n",
    "    curr_df = curr_df.applymap(clean_data)\n",
    "    \n",
    "    aggReports = curr_df if aggReports is None else pd.concat([aggReports,curr_df])\n",
    "\n",
    "len(aggReports)\n",
    "\n",
    "aggReports.write_csv\n"
   ]
  },
  {
   "cell_type": "code",
   "execution_count": 66,
   "metadata": {},
   "outputs": [
    {
     "data": {
      "text/html": [
       "<div>\n",
       "<style scoped>\n",
       "    .dataframe tbody tr th:only-of-type {\n",
       "        vertical-align: middle;\n",
       "    }\n",
       "\n",
       "    .dataframe tbody tr th {\n",
       "        vertical-align: top;\n",
       "    }\n",
       "\n",
       "    .dataframe thead th {\n",
       "        text-align: right;\n",
       "    }\n",
       "</style>\n",
       "<table border=\"1\" class=\"dataframe\">\n",
       "  <thead>\n",
       "    <tr style=\"text-align: right;\">\n",
       "      <th></th>\n",
       "      <th>report_id</th>\n",
       "      <th>caers_created_date</th>\n",
       "      <th>date_of_event</th>\n",
       "      <th>product_type</th>\n",
       "      <th>product</th>\n",
       "      <th>product_code</th>\n",
       "      <th>description</th>\n",
       "      <th>patient_age</th>\n",
       "      <th>age_units</th>\n",
       "      <th>sex</th>\n",
       "      <th>medra_preferred_terms</th>\n",
       "      <th>outcomes</th>\n",
       "    </tr>\n",
       "  </thead>\n",
       "  <tbody>\n",
       "    <tr>\n",
       "      <th>0</th>\n",
       "      <td>172934</td>\n",
       "      <td>1/1/2014</td>\n",
       "      <td>12/5/2013</td>\n",
       "      <td>SUSPECT</td>\n",
       "      <td>VALUED NATIONAL PINE NUTS</td>\n",
       "      <td>23</td>\n",
       "      <td>Nuts/Edible Seed</td>\n",
       "      <td>NaN</td>\n",
       "      <td>NaN</td>\n",
       "      <td>NaN</td>\n",
       "      <td>DYSGEUSIA, HYPERSENSITIVITY</td>\n",
       "      <td>Other Outcome</td>\n",
       "    </tr>\n",
       "    <tr>\n",
       "      <th>1</th>\n",
       "      <td>172937</td>\n",
       "      <td>1/1/2014</td>\n",
       "      <td>NaN</td>\n",
       "      <td>SUSPECT</td>\n",
       "      <td>DAVID'S SUNFLOWER SEEDS, RANCH FLAVORED</td>\n",
       "      <td>23</td>\n",
       "      <td>Nuts/Edible Seed</td>\n",
       "      <td>NaN</td>\n",
       "      <td>NaN</td>\n",
       "      <td>NaN</td>\n",
       "      <td>PAIN, MUCOSAL ULCERATION, TENDERNESS, BURNING ...</td>\n",
       "      <td>Hospitalization, Patient Visited Healthcare Pr...</td>\n",
       "    </tr>\n",
       "    <tr>\n",
       "      <th>2</th>\n",
       "      <td>172939</td>\n",
       "      <td>1/1/2014</td>\n",
       "      <td>NaN</td>\n",
       "      <td>SUSPECT</td>\n",
       "      <td>KASHI WHOLE WHEAT BISCUITS, ISLAND VANILLA</td>\n",
       "      <td>5</td>\n",
       "      <td>Cereal Prep/Breakfast Food</td>\n",
       "      <td>NaN</td>\n",
       "      <td>NaN</td>\n",
       "      <td>NaN</td>\n",
       "      <td>VOMITING, ABDOMINAL PAIN, FEELING OF BODY TEMP...</td>\n",
       "      <td>Other Outcome</td>\n",
       "    </tr>\n",
       "    <tr>\n",
       "      <th>3</th>\n",
       "      <td>172940</td>\n",
       "      <td>1/1/2014</td>\n",
       "      <td>NaN</td>\n",
       "      <td>SUSPECT</td>\n",
       "      <td>DANNON DANNON LITE &amp; FIT GREEK YOGURT CHERRY</td>\n",
       "      <td>9</td>\n",
       "      <td>Milk/Butter/Dried Milk Prod</td>\n",
       "      <td>NaN</td>\n",
       "      <td>NaN</td>\n",
       "      <td>NaN</td>\n",
       "      <td>NAUSEA</td>\n",
       "      <td>Other Outcome</td>\n",
       "    </tr>\n",
       "    <tr>\n",
       "      <th>4</th>\n",
       "      <td>172941</td>\n",
       "      <td>1/1/2014</td>\n",
       "      <td>12/16/2013</td>\n",
       "      <td>SUSPECT</td>\n",
       "      <td>COPPER RIVER KIPPERED ALASKA SILVER SALMON</td>\n",
       "      <td>16</td>\n",
       "      <td>Fishery/Seafood Prod</td>\n",
       "      <td>NaN</td>\n",
       "      <td>NaN</td>\n",
       "      <td>NaN</td>\n",
       "      <td>LACERATION</td>\n",
       "      <td>Other Outcome</td>\n",
       "    </tr>\n",
       "  </tbody>\n",
       "</table>\n",
       "</div>"
      ],
      "text/plain": [
       "  report_id caers_created_date date_of_event product_type  \\\n",
       "0    172934           1/1/2014     12/5/2013      SUSPECT   \n",
       "1    172937           1/1/2014           NaN      SUSPECT   \n",
       "2    172939           1/1/2014           NaN      SUSPECT   \n",
       "3    172940           1/1/2014           NaN      SUSPECT   \n",
       "4    172941           1/1/2014    12/16/2013      SUSPECT   \n",
       "\n",
       "                                        product product_code  \\\n",
       "0                     VALUED NATIONAL PINE NUTS           23   \n",
       "1       DAVID'S SUNFLOWER SEEDS, RANCH FLAVORED           23   \n",
       "2    KASHI WHOLE WHEAT BISCUITS, ISLAND VANILLA            5   \n",
       "3  DANNON DANNON LITE & FIT GREEK YOGURT CHERRY            9   \n",
       "4    COPPER RIVER KIPPERED ALASKA SILVER SALMON           16   \n",
       "\n",
       "                   description  patient_age age_units  sex  \\\n",
       "0             Nuts/Edible Seed          NaN       NaN  NaN   \n",
       "1             Nuts/Edible Seed          NaN       NaN  NaN   \n",
       "2   Cereal Prep/Breakfast Food          NaN       NaN  NaN   \n",
       "3  Milk/Butter/Dried Milk Prod          NaN       NaN  NaN   \n",
       "4         Fishery/Seafood Prod          NaN       NaN  NaN   \n",
       "\n",
       "                               medra_preferred_terms  \\\n",
       "0                        DYSGEUSIA, HYPERSENSITIVITY   \n",
       "1  PAIN, MUCOSAL ULCERATION, TENDERNESS, BURNING ...   \n",
       "2  VOMITING, ABDOMINAL PAIN, FEELING OF BODY TEMP...   \n",
       "3                                             NAUSEA   \n",
       "4                                         LACERATION   \n",
       "\n",
       "                                            outcomes  \n",
       "0                                      Other Outcome  \n",
       "1  Hospitalization, Patient Visited Healthcare Pr...  \n",
       "2                                      Other Outcome  \n",
       "3                                      Other Outcome  \n",
       "4                                      Other Outcome  "
      ]
     },
     "execution_count": 66,
     "metadata": {},
     "output_type": "execute_result"
    }
   ],
   "source": [
    "aggReports.head()"
   ]
  },
  {
   "cell_type": "code",
   "execution_count": 57,
   "metadata": {},
   "outputs": [
    {
     "data": {
      "text/html": [
       "<div>\n",
       "<style scoped>\n",
       "    .dataframe tbody tr th:only-of-type {\n",
       "        vertical-align: middle;\n",
       "    }\n",
       "\n",
       "    .dataframe tbody tr th {\n",
       "        vertical-align: top;\n",
       "    }\n",
       "\n",
       "    .dataframe thead th {\n",
       "        text-align: right;\n",
       "    }\n",
       "</style>\n",
       "<table border=\"1\" class=\"dataframe\">\n",
       "  <thead>\n",
       "    <tr style=\"text-align: right;\">\n",
       "      <th></th>\n",
       "      <th>report_id</th>\n",
       "      <th>caers_created_date</th>\n",
       "      <th>date_of_event</th>\n",
       "      <th>product_type</th>\n",
       "      <th>product</th>\n",
       "      <th>product_code</th>\n",
       "      <th>description</th>\n",
       "      <th>patient_age</th>\n",
       "      <th>age_units</th>\n",
       "      <th>sex</th>\n",
       "      <th>medra_preferred_terms</th>\n",
       "      <th>outcomes</th>\n",
       "    </tr>\n",
       "  </thead>\n",
       "  <tbody>\n",
       "  </tbody>\n",
       "</table>\n",
       "</div>"
      ],
      "text/plain": [
       "Empty DataFrame\n",
       "Columns: [report_id, caers_created_date, date_of_event, product_type, product, product_code, description, patient_age, age_units, sex, medra_preferred_terms, outcomes]\n",
       "Index: []"
      ]
     },
     "execution_count": 57,
     "metadata": {},
     "output_type": "execute_result"
    }
   ],
   "source": [
    "# aggReports.report_id = aggReports.report_id.str.strip()\n",
    "aggReports.dtypes\n",
    "\n",
    "aggReports[aggReports.report_id==\"217550\"]"
   ]
  },
  {
   "cell_type": "code",
   "execution_count": 75,
   "metadata": {},
   "outputs": [
    {
     "ename": "ValueError",
     "evalue": "must supply a tuple to get_group with multiple grouping keys",
     "output_type": "error",
     "traceback": [
      "\u001b[1;31m---------------------------------------------------------------------------\u001b[0m",
      "\u001b[1;31mValueError\u001b[0m                                Traceback (most recent call last)",
      "\u001b[1;32m~\\AppData\\Local\\Temp/ipykernel_26672/1052476142.py\u001b[0m in \u001b[0;36m<module>\u001b[1;34m\u001b[0m\n\u001b[1;32m----> 1\u001b[1;33m \u001b[0maggReports\u001b[0m\u001b[1;33m.\u001b[0m\u001b[0mgroupby\u001b[0m\u001b[1;33m(\u001b[0m\u001b[1;33m[\u001b[0m\u001b[1;34m\"report_id\"\u001b[0m\u001b[1;33m,\u001b[0m\u001b[1;34m\"product\"\u001b[0m\u001b[1;33m]\u001b[0m\u001b[1;33m)\u001b[0m\u001b[1;33m.\u001b[0m\u001b[0mget_group\u001b[0m\u001b[1;33m(\u001b[0m\u001b[1;36m0\u001b[0m\u001b[1;33m)\u001b[0m\u001b[1;33m\u001b[0m\u001b[1;33m\u001b[0m\u001b[0m\n\u001b[0m\u001b[0;32m      2\u001b[0m \u001b[1;31m# aggReports[aggReports.report_id==\"217550\"]\u001b[0m\u001b[1;33m\u001b[0m\u001b[1;33m\u001b[0m\u001b[1;33m\u001b[0m\u001b[0m\n",
      "\u001b[1;32m~\\Anaconda3\\envs\\ece143\\lib\\site-packages\\pandas\\core\\groupby\\groupby.py\u001b[0m in \u001b[0;36mget_group\u001b[1;34m(self, name, obj)\u001b[0m\n\u001b[0;32m    750\u001b[0m             \u001b[0mobj\u001b[0m \u001b[1;33m=\u001b[0m \u001b[0mself\u001b[0m\u001b[1;33m.\u001b[0m\u001b[0m_selected_obj\u001b[0m\u001b[1;33m\u001b[0m\u001b[1;33m\u001b[0m\u001b[0m\n\u001b[0;32m    751\u001b[0m \u001b[1;33m\u001b[0m\u001b[0m\n\u001b[1;32m--> 752\u001b[1;33m         \u001b[0minds\u001b[0m \u001b[1;33m=\u001b[0m \u001b[0mself\u001b[0m\u001b[1;33m.\u001b[0m\u001b[0m_get_index\u001b[0m\u001b[1;33m(\u001b[0m\u001b[0mname\u001b[0m\u001b[1;33m)\u001b[0m\u001b[1;33m\u001b[0m\u001b[1;33m\u001b[0m\u001b[0m\n\u001b[0m\u001b[0;32m    753\u001b[0m         \u001b[1;32mif\u001b[0m \u001b[1;32mnot\u001b[0m \u001b[0mlen\u001b[0m\u001b[1;33m(\u001b[0m\u001b[0minds\u001b[0m\u001b[1;33m)\u001b[0m\u001b[1;33m:\u001b[0m\u001b[1;33m\u001b[0m\u001b[1;33m\u001b[0m\u001b[0m\n\u001b[0;32m    754\u001b[0m             \u001b[1;32mraise\u001b[0m \u001b[0mKeyError\u001b[0m\u001b[1;33m(\u001b[0m\u001b[0mname\u001b[0m\u001b[1;33m)\u001b[0m\u001b[1;33m\u001b[0m\u001b[1;33m\u001b[0m\u001b[0m\n",
      "\u001b[1;32m~\\Anaconda3\\envs\\ece143\\lib\\site-packages\\pandas\\core\\groupby\\groupby.py\u001b[0m in \u001b[0;36m_get_index\u001b[1;34m(self, name)\u001b[0m\n\u001b[0;32m    678\u001b[0m         \u001b[0mSafe\u001b[0m \u001b[0mget\u001b[0m \u001b[0mindex\u001b[0m\u001b[1;33m,\u001b[0m \u001b[0mtranslate\u001b[0m \u001b[0mkeys\u001b[0m \u001b[1;32mfor\u001b[0m \u001b[0mdatelike\u001b[0m \u001b[0mto\u001b[0m \u001b[0munderlying\u001b[0m \u001b[0mrepr\u001b[0m\u001b[1;33m.\u001b[0m\u001b[1;33m\u001b[0m\u001b[1;33m\u001b[0m\u001b[0m\n\u001b[0;32m    679\u001b[0m         \"\"\"\n\u001b[1;32m--> 680\u001b[1;33m         \u001b[1;32mreturn\u001b[0m \u001b[0mself\u001b[0m\u001b[1;33m.\u001b[0m\u001b[0m_get_indices\u001b[0m\u001b[1;33m(\u001b[0m\u001b[1;33m[\u001b[0m\u001b[0mname\u001b[0m\u001b[1;33m]\u001b[0m\u001b[1;33m)\u001b[0m\u001b[1;33m[\u001b[0m\u001b[1;36m0\u001b[0m\u001b[1;33m]\u001b[0m\u001b[1;33m\u001b[0m\u001b[1;33m\u001b[0m\u001b[0m\n\u001b[0m\u001b[0;32m    681\u001b[0m \u001b[1;33m\u001b[0m\u001b[0m\n\u001b[0;32m    682\u001b[0m     \u001b[1;33m@\u001b[0m\u001b[0mfinal\u001b[0m\u001b[1;33m\u001b[0m\u001b[1;33m\u001b[0m\u001b[0m\n",
      "\u001b[1;32m~\\Anaconda3\\envs\\ece143\\lib\\site-packages\\pandas\\core\\groupby\\groupby.py\u001b[0m in \u001b[0;36m_get_indices\u001b[1;34m(self, names)\u001b[0m\n\u001b[0;32m    651\u001b[0m             \u001b[1;32mif\u001b[0m \u001b[1;32mnot\u001b[0m \u001b[0misinstance\u001b[0m\u001b[1;33m(\u001b[0m\u001b[0mname_sample\u001b[0m\u001b[1;33m,\u001b[0m \u001b[0mtuple\u001b[0m\u001b[1;33m)\u001b[0m\u001b[1;33m:\u001b[0m\u001b[1;33m\u001b[0m\u001b[1;33m\u001b[0m\u001b[0m\n\u001b[0;32m    652\u001b[0m                 \u001b[0mmsg\u001b[0m \u001b[1;33m=\u001b[0m \u001b[1;34m\"must supply a tuple to get_group with multiple grouping keys\"\u001b[0m\u001b[1;33m\u001b[0m\u001b[1;33m\u001b[0m\u001b[0m\n\u001b[1;32m--> 653\u001b[1;33m                 \u001b[1;32mraise\u001b[0m \u001b[0mValueError\u001b[0m\u001b[1;33m(\u001b[0m\u001b[0mmsg\u001b[0m\u001b[1;33m)\u001b[0m\u001b[1;33m\u001b[0m\u001b[1;33m\u001b[0m\u001b[0m\n\u001b[0m\u001b[0;32m    654\u001b[0m             \u001b[1;32mif\u001b[0m \u001b[1;32mnot\u001b[0m \u001b[0mlen\u001b[0m\u001b[1;33m(\u001b[0m\u001b[0mname_sample\u001b[0m\u001b[1;33m)\u001b[0m \u001b[1;33m==\u001b[0m \u001b[0mlen\u001b[0m\u001b[1;33m(\u001b[0m\u001b[0mindex_sample\u001b[0m\u001b[1;33m)\u001b[0m\u001b[1;33m:\u001b[0m\u001b[1;33m\u001b[0m\u001b[1;33m\u001b[0m\u001b[0m\n\u001b[0;32m    655\u001b[0m                 \u001b[1;32mtry\u001b[0m\u001b[1;33m:\u001b[0m\u001b[1;33m\u001b[0m\u001b[1;33m\u001b[0m\u001b[0m\n",
      "\u001b[1;31mValueError\u001b[0m: must supply a tuple to get_group with multiple grouping keys"
     ]
    }
   ],
   "source": [
    "aggReports.groupby([\"report_id\",\"product\"])\n",
    "# aggReports[aggReports.report_id==\"217550\"]"
   ]
  },
  {
   "cell_type": "code",
   "execution_count": 64,
   "metadata": {},
   "outputs": [
    {
     "data": {
      "text/plain": [
       "report_id                 0.000000\n",
       "caers_created_date        0.000000\n",
       "date_of_event            38.439445\n",
       "product_type              0.000000\n",
       "product                   0.002286\n",
       "product_code              0.495958\n",
       "description               0.495958\n",
       "patient_age              39.411554\n",
       "age_units                39.314038\n",
       "sex                      40.522318\n",
       "medra_preferred_terms     0.817455\n",
       "outcomes                  0.000000\n",
       "dtype: float64"
      ]
     },
     "execution_count": 64,
     "metadata": {},
     "output_type": "execute_result"
    }
   ],
   "source": [
    "(aggReports.isnull().sum()/aggReports.shape[0])*100"
   ]
  },
  {
   "cell_type": "code",
   "execution_count": 57,
   "metadata": {},
   "outputs": [
    {
     "data": {
      "text/plain": [
       "131261"
      ]
     },
     "execution_count": 57,
     "metadata": {},
     "output_type": "execute_result"
    }
   ],
   "source": [
    "len(aggReports)"
   ]
  },
  {
   "cell_type": "code",
   "execution_count": 58,
   "metadata": {},
   "outputs": [
    {
     "data": {
      "text/plain": [
       "91776"
      ]
     },
     "execution_count": 58,
     "metadata": {},
     "output_type": "execute_result"
    }
   ],
   "source": [
    "aggReports_no_dupes = aggReports.copy()\n",
    "aggReports_no_dupes.drop_duplicates(subset = 'Report ID',inplace=True)\n",
    "\n",
    "len(aggReports_no_dupes)"
   ]
  },
  {
   "cell_type": "code",
   "execution_count": 60,
   "metadata": {},
   "outputs": [
    {
     "data": {
      "text/plain": [
       "Report ID                  0.000000\n",
       "CAERS Created Date         0.000000\n",
       "Date of Event             28.853201\n",
       "Product Type               0.000000\n",
       "Product                    0.001524\n",
       "Product Code               0.474627\n",
       "Description                0.474627\n",
       "Patient Age               33.466909\n",
       "Age Units                 33.391487\n",
       "Sex                       34.260748\n",
       "MedDRA Preferred Terms    41.396150\n",
       "Outcomes                   0.000000\n",
       "Medra Preferred Terms     29.271452\n",
       "dtype: float64"
      ]
     },
     "execution_count": 60,
     "metadata": {},
     "output_type": "execute_result"
    }
   ],
   "source": [
    "(aggReports_no_dupes.isnull().sum()/aggReports.shape[0])*100"
   ]
  },
  {
   "cell_type": "code",
   "execution_count": 68,
   "metadata": {},
   "outputs": [
    {
     "data": {
      "text/plain": [
       "Report ID                 91776\n",
       "CAERS Created Date         4927\n",
       "Date of Event              6503\n",
       "Product Type                  2\n",
       "Product                   42497\n",
       "Product Code                 48\n",
       "Description                  50\n",
       "Patient Age                 107\n",
       "Age Units                     5\n",
       "Sex                           4\n",
       "MedDRA Preferred Terms    18984\n",
       "Outcomes                    420\n",
       "Medra Preferred Terms     23531\n",
       "time_diff                  4785\n",
       "time_group                    6\n",
       "dtype: int64"
      ]
     },
     "execution_count": 68,
     "metadata": {},
     "output_type": "execute_result"
    }
   ],
   "source": [
    "aggReports_no_dupes.nunique()"
   ]
  },
  {
   "cell_type": "code",
   "execution_count": 63,
   "metadata": {},
   "outputs": [],
   "source": [
    "aggReports_no_dupes[\"CAERS Created Date\"] = pd.to_datetime(aggReports_no_dupes[\"CAERS Created Date\"])\n",
    "aggReports_no_dupes[\"Date of Event\"] = pd.to_datetime(aggReports_no_dupes[\"Date of Event\"])\n",
    "\n",
    "aggReports_no_dupes[\"time_diff\"] = (aggReports_no_dupes['CAERS Created Date']-aggReports_no_dupes['Date of Event']).dt.days\n",
    "\n",
    "# Group the Time difference by different periods\n",
    "time_list = (0,180,366,1098,1830,3660)\n",
    "time_cat = ['less than 6 Months','less than 1 year','1 to 3 years','3 to 5 years','5 to 10 Years']\n",
    "aggReports_no_dupes['time_group'] = pd.cut(aggReports_no_dupes['time_diff'],time_list,labels= time_cat)\n",
    "\n",
    "aggReports_no_dupes['time_group'] = aggReports_no_dupes['time_group'].astype('str')\n",
    "aggReports_no_dupes['time_group'] = aggReports_no_dupes['time_group'].replace('nan','Unknown')"
   ]
  },
  {
   "cell_type": "code",
   "execution_count": 72,
   "metadata": {},
   "outputs": [
    {
     "data": {
      "text/plain": [
       "time_group\n",
       "1 to 3 years           5304\n",
       "3 to 5 years           2627\n",
       "5 to 10 Years          2931\n",
       "Unknown               40120\n",
       "less than 1 year       3546\n",
       "less than 6 Months    37248\n",
       "Name: Report ID, dtype: int64"
      ]
     },
     "execution_count": 72,
     "metadata": {},
     "output_type": "execute_result"
    }
   ],
   "source": [
    "aggReports_no_dupes.groupby('time_group')['Report ID'].count()"
   ]
  }
 ],
 "metadata": {
  "interpreter": {
   "hash": "751573683e24ccd8408e30aa08d302f09a2e3ffe5490b3abaa025a17d3d9d43c"
  },
  "kernelspec": {
   "display_name": "Python 3.8.11 64-bit ('ece143': conda)",
   "name": "python3"
  },
  "language_info": {
   "codemirror_mode": {
    "name": "ipython",
    "version": 3
   },
   "file_extension": ".py",
   "mimetype": "text/x-python",
   "name": "python",
   "nbconvert_exporter": "python",
   "pygments_lexer": "ipython3",
   "version": "3.8.11"
  },
  "orig_nbformat": 4
 },
 "nbformat": 4,
 "nbformat_minor": 2
}
