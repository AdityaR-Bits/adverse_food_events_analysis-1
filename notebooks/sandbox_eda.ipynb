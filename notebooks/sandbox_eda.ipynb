{
 "cells": [
  {
   "cell_type": "code",
   "execution_count": 1,
   "metadata": {},
   "outputs": [],
   "source": [
    "import pandas as pd\n"
   ]
  },
  {
   "cell_type": "code",
   "execution_count": 50,
   "metadata": {},
   "outputs": [],
   "source": [
    "c1 = pd.read_csv(\"data/CAERS_ASCII_2004_2013_0.csv\",encoding='cp1252')\n",
    "c2 = pd.read_csv(\"data/CAERS_ASCII_11_14_to_12_17.csv\",encoding=\"unicode_escape\")\n",
    "c3 = pd.read_csv(\"data/CAERS_ASCII_11_18_to_3_20.csv\",encoding='cp1252')\n",
    "\n"
   ]
  },
  {
   "cell_type": "code",
   "execution_count": 51,
   "metadata": {},
   "outputs": [
    {
     "name": "stdout",
     "output_type": "stream",
     "text": [
      "50055 50440 30766\n"
     ]
    }
   ],
   "source": [
    "print(len(c1),len(c2),len(c3))"
   ]
  },
  {
   "cell_type": "code",
   "execution_count": 52,
   "metadata": {},
   "outputs": [],
   "source": [
    "aggReports = pd.concat([c1, c2, c3])"
   ]
  },
  {
   "cell_type": "code",
   "execution_count": 53,
   "metadata": {},
   "outputs": [
    {
     "data": {
      "text/html": [
       "<div>\n",
       "<style scoped>\n",
       "    .dataframe tbody tr th:only-of-type {\n",
       "        vertical-align: middle;\n",
       "    }\n",
       "\n",
       "    .dataframe tbody tr th {\n",
       "        vertical-align: top;\n",
       "    }\n",
       "\n",
       "    .dataframe thead th {\n",
       "        text-align: right;\n",
       "    }\n",
       "</style>\n",
       "<table border=\"1\" class=\"dataframe\">\n",
       "  <thead>\n",
       "    <tr style=\"text-align: right;\">\n",
       "      <th></th>\n",
       "      <th>Report ID</th>\n",
       "      <th>CAERS Created Date</th>\n",
       "      <th>Date of Event</th>\n",
       "      <th>Product Type</th>\n",
       "      <th>Product</th>\n",
       "      <th>Product Code</th>\n",
       "      <th>Description</th>\n",
       "      <th>Patient Age</th>\n",
       "      <th>Age Units</th>\n",
       "      <th>Sex</th>\n",
       "      <th>MedDRA Preferred Terms</th>\n",
       "      <th>Outcomes</th>\n",
       "      <th>Medra Preferred Terms</th>\n",
       "    </tr>\n",
       "  </thead>\n",
       "  <tbody>\n",
       "    <tr>\n",
       "      <th>0</th>\n",
       "      <td>65335</td>\n",
       "      <td>1/1/2004</td>\n",
       "      <td>11/24/2003</td>\n",
       "      <td>SUSPECT</td>\n",
       "      <td>ENFAMIL LIPIL BABY FORMULA</td>\n",
       "      <td>40</td>\n",
       "      <td>Baby Food Products</td>\n",
       "      <td>3.0</td>\n",
       "      <td>month(s)</td>\n",
       "      <td>NaN</td>\n",
       "      <td>VOMITING, GASTROINTESTINAL DISORDER</td>\n",
       "      <td>Other Outcome</td>\n",
       "      <td>NaN</td>\n",
       "    </tr>\n",
       "    <tr>\n",
       "      <th>1</th>\n",
       "      <td>65345</td>\n",
       "      <td>1/1/2004</td>\n",
       "      <td>12/21/2003</td>\n",
       "      <td>SUSPECT</td>\n",
       "      <td>FRITO LAY FUNYUNS ONION FLAVOR, ONION RINGS</td>\n",
       "      <td>7</td>\n",
       "      <td>Snack Food Item</td>\n",
       "      <td>10.0</td>\n",
       "      <td>year(s)</td>\n",
       "      <td>M</td>\n",
       "      <td>CHOKING</td>\n",
       "      <td>Other Outcome</td>\n",
       "      <td>NaN</td>\n",
       "    </tr>\n",
       "    <tr>\n",
       "      <th>2</th>\n",
       "      <td>65350</td>\n",
       "      <td>1/1/2004</td>\n",
       "      <td>NaN</td>\n",
       "      <td>SUSPECT</td>\n",
       "      <td>GRAPE</td>\n",
       "      <td>20</td>\n",
       "      <td>Fruit/Fruit Prod</td>\n",
       "      <td>NaN</td>\n",
       "      <td>NaN</td>\n",
       "      <td>NaN</td>\n",
       "      <td>DEATH, CHOKING</td>\n",
       "      <td>Death</td>\n",
       "      <td>NaN</td>\n",
       "    </tr>\n",
       "    <tr>\n",
       "      <th>3</th>\n",
       "      <td>65336</td>\n",
       "      <td>1/1/2004</td>\n",
       "      <td>NaN</td>\n",
       "      <td>SUSPECT</td>\n",
       "      <td>ENFIMIL LIPIL BABY FORMULA</td>\n",
       "      <td>40</td>\n",
       "      <td>Baby Food Products</td>\n",
       "      <td>NaN</td>\n",
       "      <td>NaN</td>\n",
       "      <td>NaN</td>\n",
       "      <td>PHYSICAL EXAMINATION, GASTROINTESTINAL DISORDER</td>\n",
       "      <td>Patient Visited Healthcare Provider</td>\n",
       "      <td>NaN</td>\n",
       "    </tr>\n",
       "    <tr>\n",
       "      <th>4</th>\n",
       "      <td>65333</td>\n",
       "      <td>1/1/2004</td>\n",
       "      <td>NaN</td>\n",
       "      <td>SUSPECT</td>\n",
       "      <td>KROGER CLASSIC CREAM-DE-MINT CANDY MINT CHIP I...</td>\n",
       "      <td>13</td>\n",
       "      <td>Ice Cream Prod</td>\n",
       "      <td>NaN</td>\n",
       "      <td>NaN</td>\n",
       "      <td>NaN</td>\n",
       "      <td>NAUSEA, DYSGEUSIA, DIARRHOEA</td>\n",
       "      <td>Patient Visited ER</td>\n",
       "      <td>NaN</td>\n",
       "    </tr>\n",
       "  </tbody>\n",
       "</table>\n",
       "</div>"
      ],
      "text/plain": [
       "  Report ID CAERS Created Date Date of Event Product Type  \\\n",
       "0     65335           1/1/2004    11/24/2003      SUSPECT   \n",
       "1     65345           1/1/2004    12/21/2003      SUSPECT   \n",
       "2     65350           1/1/2004           NaN      SUSPECT   \n",
       "3     65336           1/1/2004           NaN      SUSPECT   \n",
       "4     65333           1/1/2004           NaN      SUSPECT   \n",
       "\n",
       "                                             Product Product Code  \\\n",
       "0                         ENFAMIL LIPIL BABY FORMULA           40   \n",
       "1        FRITO LAY FUNYUNS ONION FLAVOR, ONION RINGS            7   \n",
       "2                                              GRAPE           20   \n",
       "3                         ENFIMIL LIPIL BABY FORMULA           40   \n",
       "4  KROGER CLASSIC CREAM-DE-MINT CANDY MINT CHIP I...           13   \n",
       "\n",
       "           Description  Patient Age Age Units  Sex  \\\n",
       "0   Baby Food Products          3.0  month(s)  NaN   \n",
       "1      Snack Food Item         10.0   year(s)    M   \n",
       "2     Fruit/Fruit Prod          NaN       NaN  NaN   \n",
       "3   Baby Food Products          NaN       NaN  NaN   \n",
       "4       Ice Cream Prod          NaN       NaN  NaN   \n",
       "\n",
       "                            MedDRA Preferred Terms  \\\n",
       "0              VOMITING, GASTROINTESTINAL DISORDER   \n",
       "1                                          CHOKING   \n",
       "2                                   DEATH, CHOKING   \n",
       "3  PHYSICAL EXAMINATION, GASTROINTESTINAL DISORDER   \n",
       "4                     NAUSEA, DYSGEUSIA, DIARRHOEA   \n",
       "\n",
       "                              Outcomes Medra Preferred Terms  \n",
       "0                        Other Outcome                   NaN  \n",
       "1                        Other Outcome                   NaN  \n",
       "2                                Death                   NaN  \n",
       "3  Patient Visited Healthcare Provider                   NaN  \n",
       "4                   Patient Visited ER                   NaN  "
      ]
     },
     "execution_count": 53,
     "metadata": {},
     "output_type": "execute_result"
    }
   ],
   "source": [
    "aggReports.head()"
   ]
  },
  {
   "cell_type": "code",
   "execution_count": 54,
   "metadata": {},
   "outputs": [
    {
     "data": {
      "text/plain": [
       "Report ID                  0.000000\n",
       "CAERS Created Date         0.000000\n",
       "Date of Event             38.439445\n",
       "Product Type               0.000000\n",
       "Product                    0.002286\n",
       "Product Code               0.495958\n",
       "Description                0.495958\n",
       "Patient Age               39.411554\n",
       "Age Units                 39.314038\n",
       "Sex                       40.522318\n",
       "MedDRA Preferred Terms    61.866053\n",
       "Outcomes                   0.000000\n",
       "Medra Preferred Terms     38.951402\n",
       "dtype: float64"
      ]
     },
     "execution_count": 54,
     "metadata": {},
     "output_type": "execute_result"
    }
   ],
   "source": [
    "(aggReports.isnull().sum()/aggReports.shape[0])*100"
   ]
  },
  {
   "cell_type": "code",
   "execution_count": 57,
   "metadata": {},
   "outputs": [
    {
     "data": {
      "text/plain": [
       "131261"
      ]
     },
     "execution_count": 57,
     "metadata": {},
     "output_type": "execute_result"
    }
   ],
   "source": [
    "len(aggReports)"
   ]
  },
  {
   "cell_type": "code",
   "execution_count": 58,
   "metadata": {},
   "outputs": [
    {
     "data": {
      "text/plain": [
       "91776"
      ]
     },
     "execution_count": 58,
     "metadata": {},
     "output_type": "execute_result"
    }
   ],
   "source": [
    "aggReports_no_dupes = aggReports.copy()\n",
    "aggReports_no_dupes.drop_duplicates(subset = 'Report ID',inplace=True)\n",
    "\n",
    "len(aggReports_no_dupes)"
   ]
  },
  {
   "cell_type": "code",
   "execution_count": 60,
   "metadata": {},
   "outputs": [
    {
     "data": {
      "text/plain": [
       "Report ID                  0.000000\n",
       "CAERS Created Date         0.000000\n",
       "Date of Event             28.853201\n",
       "Product Type               0.000000\n",
       "Product                    0.001524\n",
       "Product Code               0.474627\n",
       "Description                0.474627\n",
       "Patient Age               33.466909\n",
       "Age Units                 33.391487\n",
       "Sex                       34.260748\n",
       "MedDRA Preferred Terms    41.396150\n",
       "Outcomes                   0.000000\n",
       "Medra Preferred Terms     29.271452\n",
       "dtype: float64"
      ]
     },
     "execution_count": 60,
     "metadata": {},
     "output_type": "execute_result"
    }
   ],
   "source": [
    "(aggReports_no_dupes.isnull().sum()/aggReports.shape[0])*100"
   ]
  },
  {
   "cell_type": "code",
   "execution_count": 68,
   "metadata": {},
   "outputs": [
    {
     "data": {
      "text/plain": [
       "Report ID                 91776\n",
       "CAERS Created Date         4927\n",
       "Date of Event              6503\n",
       "Product Type                  2\n",
       "Product                   42497\n",
       "Product Code                 48\n",
       "Description                  50\n",
       "Patient Age                 107\n",
       "Age Units                     5\n",
       "Sex                           4\n",
       "MedDRA Preferred Terms    18984\n",
       "Outcomes                    420\n",
       "Medra Preferred Terms     23531\n",
       "time_diff                  4785\n",
       "time_group                    6\n",
       "dtype: int64"
      ]
     },
     "execution_count": 68,
     "metadata": {},
     "output_type": "execute_result"
    }
   ],
   "source": [
    "aggReports_no_dupes.nunique()"
   ]
  },
  {
   "cell_type": "code",
   "execution_count": 63,
   "metadata": {},
   "outputs": [],
   "source": [
    "aggReports_no_dupes[\"CAERS Created Date\"] = pd.to_datetime(aggReports_no_dupes[\"CAERS Created Date\"])\n",
    "aggReports_no_dupes[\"Date of Event\"] = pd.to_datetime(aggReports_no_dupes[\"Date of Event\"])\n",
    "\n",
    "aggReports_no_dupes[\"time_diff\"] = (aggReports_no_dupes['CAERS Created Date']-aggReports_no_dupes['Date of Event']).dt.days\n",
    "\n",
    "# Group the Time difference by different periods\n",
    "time_list = (0,180,366,1098,1830,3660)\n",
    "time_cat = ['less than 6 Months','less than 1 year','1 to 3 years','3 to 5 years','5 to 10 Years']\n",
    "aggReports_no_dupes['time_group'] = pd.cut(aggReports_no_dupes['time_diff'],time_list,labels= time_cat)\n",
    "\n",
    "aggReports_no_dupes['time_group'] = aggReports_no_dupes['time_group'].astype('str')\n",
    "aggReports_no_dupes['time_group'] = aggReports_no_dupes['time_group'].replace('nan','Unknown')"
   ]
  },
  {
   "cell_type": "code",
   "execution_count": 72,
   "metadata": {},
   "outputs": [
    {
     "data": {
      "text/plain": [
       "time_group\n",
       "1 to 3 years           5304\n",
       "3 to 5 years           2627\n",
       "5 to 10 Years          2931\n",
       "Unknown               40120\n",
       "less than 1 year       3546\n",
       "less than 6 Months    37248\n",
       "Name: Report ID, dtype: int64"
      ]
     },
     "execution_count": 72,
     "metadata": {},
     "output_type": "execute_result"
    }
   ],
   "source": [
    "aggReports_no_dupes.groupby('time_group')['Report ID'].count()"
   ]
  }
 ],
 "metadata": {
  "interpreter": {
   "hash": "751573683e24ccd8408e30aa08d302f09a2e3ffe5490b3abaa025a17d3d9d43c"
  },
  "kernelspec": {
   "display_name": "Python 3.8.11 64-bit ('ece143': conda)",
   "name": "python3"
  },
  "language_info": {
   "codemirror_mode": {
    "name": "ipython",
    "version": 3
   },
   "file_extension": ".py",
   "mimetype": "text/x-python",
   "name": "python",
   "nbconvert_exporter": "python",
   "pygments_lexer": "ipython3",
   "version": "3.8.11"
  },
  "orig_nbformat": 4
 },
 "nbformat": 4,
 "nbformat_minor": 2
}
