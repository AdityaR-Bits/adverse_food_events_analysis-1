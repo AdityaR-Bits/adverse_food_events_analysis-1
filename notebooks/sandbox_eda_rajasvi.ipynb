{
 "cells": [
  {
   "cell_type": "code",
   "execution_count": 39,
   "metadata": {},
   "outputs": [],
   "source": [
    "%matplotlib inline"
   ]
  },
  {
   "cell_type": "code",
   "execution_count": 40,
   "metadata": {},
   "outputs": [],
   "source": [
    "import pandas as pd\n",
    "from pathlib import Path\n",
    "import matplotlib.pyplot as plt\n",
    "import seaborn as sns\n",
    "from nltk.corpus import stopwords\n",
    "import matplotlib.style as style \n",
    "\n",
    "import plotly.express as px\n",
    "from plotly.subplots import make_subplots\n",
    "import plotly.graph_objects as go\n",
    "from plotly.offline import plot\n",
    "import numpy as np"
   ]
  },
  {
   "cell_type": "code",
   "execution_count": 41,
   "metadata": {},
   "outputs": [
    {
     "name": "stderr",
     "output_type": "stream",
     "text": [
      "C:\\Users\\Rajasvi\\Anaconda3\\envs\\ece143\\lib\\site-packages\\IPython\\core\\interactiveshell.py:3444: DtypeWarning:\n",
      "\n",
      "Columns (1,6) have mixed types.Specify dtype option on import or set low_memory=False.\n",
      "\n"
     ]
    },
    {
     "data": {
      "text/html": [
       "<div>\n",
       "<style scoped>\n",
       "    .dataframe tbody tr th:only-of-type {\n",
       "        vertical-align: middle;\n",
       "    }\n",
       "\n",
       "    .dataframe tbody tr th {\n",
       "        vertical-align: top;\n",
       "    }\n",
       "\n",
       "    .dataframe thead th {\n",
       "        text-align: right;\n",
       "    }\n",
       "</style>\n",
       "<table border=\"1\" class=\"dataframe\">\n",
       "  <thead>\n",
       "    <tr style=\"text-align: right;\">\n",
       "      <th></th>\n",
       "      <th>report_id</th>\n",
       "      <th>caers_created_date</th>\n",
       "      <th>date_of_event</th>\n",
       "      <th>product_type</th>\n",
       "      <th>product</th>\n",
       "      <th>product_code</th>\n",
       "      <th>category</th>\n",
       "      <th>patient_age</th>\n",
       "      <th>age_units</th>\n",
       "      <th>sex</th>\n",
       "      <th>medra_preferred_terms</th>\n",
       "      <th>outcomes</th>\n",
       "    </tr>\n",
       "  </thead>\n",
       "  <tbody>\n",
       "    <tr>\n",
       "      <th>0</th>\n",
       "      <td>172934</td>\n",
       "      <td>1/1/2014</td>\n",
       "      <td>12/5/2013</td>\n",
       "      <td>SUSPECT</td>\n",
       "      <td>VALUED NATIONAL PINE NUTS</td>\n",
       "      <td>23</td>\n",
       "      <td>Nuts/Edible Seed</td>\n",
       "      <td>NaN</td>\n",
       "      <td>NaN</td>\n",
       "      <td>NaN</td>\n",
       "      <td>DYSGEUSIA, HYPERSENSITIVITY</td>\n",
       "      <td>Other Outcome</td>\n",
       "    </tr>\n",
       "    <tr>\n",
       "      <th>1</th>\n",
       "      <td>172937</td>\n",
       "      <td>1/1/2014</td>\n",
       "      <td>NaN</td>\n",
       "      <td>SUSPECT</td>\n",
       "      <td>DAVID'S SUNFLOWER SEEDS, RANCH FLAVORED</td>\n",
       "      <td>23</td>\n",
       "      <td>Nuts/Edible Seed</td>\n",
       "      <td>NaN</td>\n",
       "      <td>NaN</td>\n",
       "      <td>NaN</td>\n",
       "      <td>PAIN, MUCOSAL ULCERATION, TENDERNESS, BURNING ...</td>\n",
       "      <td>Hospitalization, Patient Visited Healthcare Pr...</td>\n",
       "    </tr>\n",
       "    <tr>\n",
       "      <th>2</th>\n",
       "      <td>172939</td>\n",
       "      <td>1/1/2014</td>\n",
       "      <td>NaN</td>\n",
       "      <td>SUSPECT</td>\n",
       "      <td>KASHI WHOLE WHEAT BISCUITS, ISLAND VANILLA</td>\n",
       "      <td>5</td>\n",
       "      <td>Cereal Prep/Breakfast Food</td>\n",
       "      <td>NaN</td>\n",
       "      <td>NaN</td>\n",
       "      <td>NaN</td>\n",
       "      <td>VOMITING, ABDOMINAL PAIN, FEELING OF BODY TEMP...</td>\n",
       "      <td>Other Outcome</td>\n",
       "    </tr>\n",
       "    <tr>\n",
       "      <th>3</th>\n",
       "      <td>172940</td>\n",
       "      <td>1/1/2014</td>\n",
       "      <td>NaN</td>\n",
       "      <td>SUSPECT</td>\n",
       "      <td>DANNON DANNON LITE &amp; FIT GREEK YOGURT CHERRY</td>\n",
       "      <td>9</td>\n",
       "      <td>Milk/Butter/Dried Milk Prod</td>\n",
       "      <td>NaN</td>\n",
       "      <td>NaN</td>\n",
       "      <td>NaN</td>\n",
       "      <td>NAUSEA</td>\n",
       "      <td>Other Outcome</td>\n",
       "    </tr>\n",
       "    <tr>\n",
       "      <th>4</th>\n",
       "      <td>172941</td>\n",
       "      <td>1/1/2014</td>\n",
       "      <td>12/16/2013</td>\n",
       "      <td>SUSPECT</td>\n",
       "      <td>COPPER RIVER KIPPERED ALASKA SILVER SALMON</td>\n",
       "      <td>16</td>\n",
       "      <td>Fishery/Seafood Prod</td>\n",
       "      <td>NaN</td>\n",
       "      <td>NaN</td>\n",
       "      <td>NaN</td>\n",
       "      <td>LACERATION</td>\n",
       "      <td>Other Outcome</td>\n",
       "    </tr>\n",
       "  </tbody>\n",
       "</table>\n",
       "</div>"
      ],
      "text/plain": [
       "  report_id caers_created_date date_of_event product_type  \\\n",
       "0    172934           1/1/2014     12/5/2013      SUSPECT   \n",
       "1    172937           1/1/2014           NaN      SUSPECT   \n",
       "2    172939           1/1/2014           NaN      SUSPECT   \n",
       "3    172940           1/1/2014           NaN      SUSPECT   \n",
       "4    172941           1/1/2014    12/16/2013      SUSPECT   \n",
       "\n",
       "                                        product product_code  \\\n",
       "0                     VALUED NATIONAL PINE NUTS           23   \n",
       "1       DAVID'S SUNFLOWER SEEDS, RANCH FLAVORED           23   \n",
       "2    KASHI WHOLE WHEAT BISCUITS, ISLAND VANILLA            5   \n",
       "3  DANNON DANNON LITE & FIT GREEK YOGURT CHERRY            9   \n",
       "4    COPPER RIVER KIPPERED ALASKA SILVER SALMON           16   \n",
       "\n",
       "                      category  patient_age age_units  sex  \\\n",
       "0             Nuts/Edible Seed          NaN       NaN  NaN   \n",
       "1             Nuts/Edible Seed          NaN       NaN  NaN   \n",
       "2   Cereal Prep/Breakfast Food          NaN       NaN  NaN   \n",
       "3  Milk/Butter/Dried Milk Prod          NaN       NaN  NaN   \n",
       "4         Fishery/Seafood Prod          NaN       NaN  NaN   \n",
       "\n",
       "                               medra_preferred_terms  \\\n",
       "0                        DYSGEUSIA, HYPERSENSITIVITY   \n",
       "1  PAIN, MUCOSAL ULCERATION, TENDERNESS, BURNING ...   \n",
       "2  VOMITING, ABDOMINAL PAIN, FEELING OF BODY TEMP...   \n",
       "3                                             NAUSEA   \n",
       "4                                         LACERATION   \n",
       "\n",
       "                                            outcomes  \n",
       "0                                      Other Outcome  \n",
       "1  Hospitalization, Patient Visited Healthcare Pr...  \n",
       "2                                      Other Outcome  \n",
       "3                                      Other Outcome  \n",
       "4                                      Other Outcome  "
      ]
     },
     "execution_count": 41,
     "metadata": {},
     "output_type": "execute_result"
    }
   ],
   "source": [
    "aggReports=pd.read_csv(\"../data/processed/clean_data.csv\",index_col=0)\n",
    "aggReports.head()"
   ]
  },
  {
   "cell_type": "code",
   "execution_count": 8,
   "metadata": {},
   "outputs": [
    {
     "name": "stdout",
     "output_type": "stream",
     "text": [
      "{'Patient Visited Healthcare Provider', 'Other Outcome', 'Other Seriousness', 'Death', 'Medically Important', 'Life Threatening', 'Patient Visited ER', 'Disability', 'Required Intervention', 'Hospitalization', 'Congenital Anomaly'}\n"
     ]
    }
   ],
   "source": [
    "uniq_out=set()\n",
    "for o in aggReports.outcomes.unique():\n",
    "    for i in o.split(\",\"):\n",
    "        if i!=\"\":\n",
    "            uniq_out.add(i.strip())\n",
    "print(uniq_out)\n",
    "\n",
    "for i in uniq_out:\n",
    "    aggReports[i]=aggReports.apply(lambda x: True if i in x.outcomes else False,axis=1)\n",
    "\n"
   ]
  },
  {
   "cell_type": "code",
   "execution_count": 41,
   "metadata": {},
   "outputs": [
    {
     "data": {
      "text/plain": [
       "0             SUSPECT\n",
       "1             SUSPECT\n",
       "2             SUSPECT\n",
       "3             SUSPECT\n",
       "4             SUSPECT\n",
       "             ...     \n",
       "131256    CONCOMITANT\n",
       "131257        SUSPECT\n",
       "131258        SUSPECT\n",
       "131259        SUSPECT\n",
       "131260        SUSPECT\n",
       "Name: product_type, Length: 131261, dtype: object"
      ]
     },
     "execution_count": 41,
     "metadata": {},
     "output_type": "execute_result"
    }
   ],
   "source": [
    "aggReports.product_type"
   ]
  },
  {
   "cell_type": "code",
   "execution_count": 5,
   "metadata": {},
   "outputs": [],
   "source": [
    "aggReports.outcomes = aggReports.outcomes.apply(lambda x: [y.strip() for y in x.split(\",\") if y!=[]])\n",
    "expl_aggReports = aggReports.explode(\"outcomes\")\n",
    "expl_aggReports=expl_aggReports[[\"report_id\",\"product\",\"category\",\"outcomes\"]]\n",
    "expl_aggReports=expl_aggReports.reset_index(drop=True)\n"
   ]
  },
  {
   "cell_type": "code",
   "execution_count": 37,
   "metadata": {},
   "outputs": [
    {
     "ename": "NameError",
     "evalue": "name 'expl_aggReports' is not defined",
     "output_type": "error",
     "traceback": [
      "\u001b[1;31m---------------------------------------------------------------------------\u001b[0m",
      "\u001b[1;31mNameError\u001b[0m                                 Traceback (most recent call last)",
      "\u001b[1;32m~\\AppData\\Local\\Temp/ipykernel_11828/1857966862.py\u001b[0m in \u001b[0;36m<module>\u001b[1;34m\u001b[0m\n\u001b[1;32m----> 1\u001b[1;33m \u001b[0mexpl_aggReports\u001b[0m\u001b[1;33m.\u001b[0m\u001b[0moutcomes\u001b[0m\u001b[1;33m.\u001b[0m\u001b[0munique\u001b[0m\u001b[1;33m(\u001b[0m\u001b[1;33m)\u001b[0m\u001b[1;33m\u001b[0m\u001b[1;33m\u001b[0m\u001b[0m\n\u001b[0m",
      "\u001b[1;31mNameError\u001b[0m: name 'expl_aggReports' is not defined"
     ]
    }
   ],
   "source": [
    "expl_aggReports.outcomes.unique()"
   ]
  },
  {
   "cell_type": "code",
   "execution_count": null,
   "metadata": {},
   "outputs": [],
   "source": [
    "def brand(x):\n",
    "    stop = stopwords.words('english')\n",
    "    n_x = [_.upper() for _ in x.lower().split(\" \") if _ not in stop]\n",
    "    if len(n_x)==0:\n",
    "        return \"\"\n",
    "    return n_x[0]  \n",
    "\n",
    "def clean_prod(x):\n",
    "    regex = re.compile('[%s]' % re.escape(string.punctuation))\n",
    "\n",
    "    x = regex.sub('', x)\n",
    "    stop = stopwords.words('english')\n",
    "    n_x = [_.upper() for _ in x.lower().split(\" \") if _ not in stop]\n",
    "    \n",
    "    return \" \".join(n_x) if len(n_x)<2 else \" \".join(n_x[:2])\n"
   ]
  },
  {
   "cell_type": "code",
   "execution_count": 220,
   "metadata": {},
   "outputs": [],
   "source": [
    "# Cosmetics Brand clustering\n",
    "cosm_df = expl_aggReports[(expl_aggReports['category']==\"Cosmetics\") & (expl_aggReports['product']!=\"EXEMPTION 4\")].copy()\n",
    "\n",
    "\n",
    "\n",
    "cosm_df['brand'] =cosm_df['product'].apply(brand,1)\n",
    "\n",
    "g=cosm_df.groupby(['outcomes','brand'])['report_id'].count().sort_values(ascending=False)\n"
   ]
  },
  {
   "cell_type": "code",
   "execution_count": 221,
   "metadata": {},
   "outputs": [
    {
     "data": {
      "text/plain": [
       "outcomes  brand     \n",
       "Death     JOHNSONS      5\n",
       "          JOHNSON       3\n",
       "          FOLLIGEN      2\n",
       "          WEN           1\n",
       "          TWO           1\n",
       "          SKIN          1\n",
       "          SHOWER        1\n",
       "          SAGE          1\n",
       "          YOUNG         1\n",
       "          PHILOSOPHY    1\n",
       "          EMU           1\n",
       "          MYSTIC        1\n",
       "          MEDLINE       1\n",
       "          L'OREAL       1\n",
       "          DERMOLOGY     1\n",
       "          COPPOLLA      1\n",
       "          BRAZILIAN     1\n",
       "Name: report_id, dtype: int64"
      ]
     },
     "execution_count": 221,
     "metadata": {},
     "output_type": "execute_result"
    }
   ],
   "source": [
    "g.iloc[g.index.get_level_values('outcomes')==\"Death\"]"
   ]
  },
  {
   "cell_type": "code",
   "execution_count": 222,
   "metadata": {},
   "outputs": [
    {
     "data": {
      "text/plain": [
       "array(['Disability', 'Medically Important', '', 'Other Outcome',\n",
       "       'Life Threatening', 'Patient Visited Healthcare Provider',\n",
       "       'Required Intervention', 'Hospitalization', 'Patient Visited ER',\n",
       "       'Other Seriousness', 'Death', 'Congenital Anomaly'], dtype=object)"
      ]
     },
     "execution_count": 222,
     "metadata": {},
     "output_type": "execute_result"
    }
   ],
   "source": [
    "cosm_df['outcomes'].unique()"
   ]
  },
  {
   "cell_type": "code",
   "execution_count": null,
   "metadata": {},
   "outputs": [],
   "source": [
    "fig = make_subplots(rows=3, cols=3)\n",
    "r=1\n",
    "c=1\n",
    "\n",
    "relv_outcomes = [\"Death\",\"Medically Important\",\"Life Threatening\",\"Hospitalization\",\"Disability\",\"Patient Visited ER\"]\n",
    "\n",
    "for i,outcome in enumerate(relv_outcomes):\n",
    "    \n",
    "    top_brands = list(g.iloc[g.index.get_level_values('outcomes')==outcome].reset_index()[:5]['brand'])\n",
    "    brand_count = list(g.iloc[g.index.get_level_values('outcomes')==outcome].reset_index()[:10]['report_id'])\n",
    "    fig.add_trace(go.Bar(name=outcome, x = top_brands,y = brand_count),row=r, col = c)\n",
    "\n",
    "    if c==3:\n",
    "        c=1\n",
    "        r+=1\n",
    "    else:\n",
    "        c+=1\n",
    "fig.layout.update(title=\"Brand vs Outcome\", height = 1500, width = 1500)\n",
    "fig.show()\n",
    "plot(fig, filename =\"brand_vs_outcome.html\")\n"
   ]
  },
  {
   "cell_type": "code",
   "execution_count": 224,
   "metadata": {},
   "outputs": [
    {
     "data": {
      "application/vnd.plotly.v1+json": {
       "config": {
        "plotlyServerURL": "https://plot.ly"
       },
       "data": [
        {
         "name": "Death",
         "type": "bar",
         "x": [
          "JOHNSONS",
          "JOHNSON",
          "FOLLIGEN",
          "WEN",
          "TWO"
         ],
         "y": [
          5,
          3,
          2,
          1,
          1
         ]
        },
        {
         "name": "Life Threatening",
         "type": "bar",
         "x": [
          "L'OREAL",
          "COPPOLA",
          "BRAZILIAN",
          "REVLON",
          "BLACK"
         ],
         "y": [
          9,
          6,
          6,
          5,
          5
         ]
        },
        {
         "name": "Hospitalization",
         "type": "bar",
         "x": [
          "SKINSHIFT",
          "HONEST",
          "OLAY",
          "COPPOLA",
          "MONAT"
         ],
         "y": [
          17,
          12,
          9,
          6,
          6
         ]
        },
        {
         "name": "Disability",
         "type": "bar",
         "x": [
          "WEN",
          "MENTALITY",
          "BRAZILIAN",
          "EOS",
          "L'OREAL"
         ],
         "y": [
          100,
          67,
          10,
          8,
          7
         ]
        },
        {
         "name": "Patient Visited ER",
         "type": "bar",
         "x": [
          "SKINSHIFT",
          "BLACK",
          "TATTOO",
          "CLAIROL",
          "REVLON"
         ],
         "y": [
          17,
          16,
          13,
          13,
          12
         ]
        }
       ],
       "layout": {
        "barmode": "stack",
        "height": 500,
        "template": {
         "data": {
          "bar": [
           {
            "error_x": {
             "color": "#2a3f5f"
            },
            "error_y": {
             "color": "#2a3f5f"
            },
            "marker": {
             "line": {
              "color": "#E5ECF6",
              "width": 0.5
             },
             "pattern": {
              "fillmode": "overlay",
              "size": 10,
              "solidity": 0.2
             }
            },
            "type": "bar"
           }
          ],
          "barpolar": [
           {
            "marker": {
             "line": {
              "color": "#E5ECF6",
              "width": 0.5
             },
             "pattern": {
              "fillmode": "overlay",
              "size": 10,
              "solidity": 0.2
             }
            },
            "type": "barpolar"
           }
          ],
          "carpet": [
           {
            "aaxis": {
             "endlinecolor": "#2a3f5f",
             "gridcolor": "white",
             "linecolor": "white",
             "minorgridcolor": "white",
             "startlinecolor": "#2a3f5f"
            },
            "baxis": {
             "endlinecolor": "#2a3f5f",
             "gridcolor": "white",
             "linecolor": "white",
             "minorgridcolor": "white",
             "startlinecolor": "#2a3f5f"
            },
            "type": "carpet"
           }
          ],
          "choropleth": [
           {
            "colorbar": {
             "outlinewidth": 0,
             "ticks": ""
            },
            "type": "choropleth"
           }
          ],
          "contour": [
           {
            "colorbar": {
             "outlinewidth": 0,
             "ticks": ""
            },
            "colorscale": [
             [
              0,
              "#0d0887"
             ],
             [
              0.1111111111111111,
              "#46039f"
             ],
             [
              0.2222222222222222,
              "#7201a8"
             ],
             [
              0.3333333333333333,
              "#9c179e"
             ],
             [
              0.4444444444444444,
              "#bd3786"
             ],
             [
              0.5555555555555556,
              "#d8576b"
             ],
             [
              0.6666666666666666,
              "#ed7953"
             ],
             [
              0.7777777777777778,
              "#fb9f3a"
             ],
             [
              0.8888888888888888,
              "#fdca26"
             ],
             [
              1,
              "#f0f921"
             ]
            ],
            "type": "contour"
           }
          ],
          "contourcarpet": [
           {
            "colorbar": {
             "outlinewidth": 0,
             "ticks": ""
            },
            "type": "contourcarpet"
           }
          ],
          "heatmap": [
           {
            "colorbar": {
             "outlinewidth": 0,
             "ticks": ""
            },
            "colorscale": [
             [
              0,
              "#0d0887"
             ],
             [
              0.1111111111111111,
              "#46039f"
             ],
             [
              0.2222222222222222,
              "#7201a8"
             ],
             [
              0.3333333333333333,
              "#9c179e"
             ],
             [
              0.4444444444444444,
              "#bd3786"
             ],
             [
              0.5555555555555556,
              "#d8576b"
             ],
             [
              0.6666666666666666,
              "#ed7953"
             ],
             [
              0.7777777777777778,
              "#fb9f3a"
             ],
             [
              0.8888888888888888,
              "#fdca26"
             ],
             [
              1,
              "#f0f921"
             ]
            ],
            "type": "heatmap"
           }
          ],
          "heatmapgl": [
           {
            "colorbar": {
             "outlinewidth": 0,
             "ticks": ""
            },
            "colorscale": [
             [
              0,
              "#0d0887"
             ],
             [
              0.1111111111111111,
              "#46039f"
             ],
             [
              0.2222222222222222,
              "#7201a8"
             ],
             [
              0.3333333333333333,
              "#9c179e"
             ],
             [
              0.4444444444444444,
              "#bd3786"
             ],
             [
              0.5555555555555556,
              "#d8576b"
             ],
             [
              0.6666666666666666,
              "#ed7953"
             ],
             [
              0.7777777777777778,
              "#fb9f3a"
             ],
             [
              0.8888888888888888,
              "#fdca26"
             ],
             [
              1,
              "#f0f921"
             ]
            ],
            "type": "heatmapgl"
           }
          ],
          "histogram": [
           {
            "marker": {
             "pattern": {
              "fillmode": "overlay",
              "size": 10,
              "solidity": 0.2
             }
            },
            "type": "histogram"
           }
          ],
          "histogram2d": [
           {
            "colorbar": {
             "outlinewidth": 0,
             "ticks": ""
            },
            "colorscale": [
             [
              0,
              "#0d0887"
             ],
             [
              0.1111111111111111,
              "#46039f"
             ],
             [
              0.2222222222222222,
              "#7201a8"
             ],
             [
              0.3333333333333333,
              "#9c179e"
             ],
             [
              0.4444444444444444,
              "#bd3786"
             ],
             [
              0.5555555555555556,
              "#d8576b"
             ],
             [
              0.6666666666666666,
              "#ed7953"
             ],
             [
              0.7777777777777778,
              "#fb9f3a"
             ],
             [
              0.8888888888888888,
              "#fdca26"
             ],
             [
              1,
              "#f0f921"
             ]
            ],
            "type": "histogram2d"
           }
          ],
          "histogram2dcontour": [
           {
            "colorbar": {
             "outlinewidth": 0,
             "ticks": ""
            },
            "colorscale": [
             [
              0,
              "#0d0887"
             ],
             [
              0.1111111111111111,
              "#46039f"
             ],
             [
              0.2222222222222222,
              "#7201a8"
             ],
             [
              0.3333333333333333,
              "#9c179e"
             ],
             [
              0.4444444444444444,
              "#bd3786"
             ],
             [
              0.5555555555555556,
              "#d8576b"
             ],
             [
              0.6666666666666666,
              "#ed7953"
             ],
             [
              0.7777777777777778,
              "#fb9f3a"
             ],
             [
              0.8888888888888888,
              "#fdca26"
             ],
             [
              1,
              "#f0f921"
             ]
            ],
            "type": "histogram2dcontour"
           }
          ],
          "mesh3d": [
           {
            "colorbar": {
             "outlinewidth": 0,
             "ticks": ""
            },
            "type": "mesh3d"
           }
          ],
          "parcoords": [
           {
            "line": {
             "colorbar": {
              "outlinewidth": 0,
              "ticks": ""
             }
            },
            "type": "parcoords"
           }
          ],
          "pie": [
           {
            "automargin": true,
            "type": "pie"
           }
          ],
          "scatter": [
           {
            "marker": {
             "colorbar": {
              "outlinewidth": 0,
              "ticks": ""
             }
            },
            "type": "scatter"
           }
          ],
          "scatter3d": [
           {
            "line": {
             "colorbar": {
              "outlinewidth": 0,
              "ticks": ""
             }
            },
            "marker": {
             "colorbar": {
              "outlinewidth": 0,
              "ticks": ""
             }
            },
            "type": "scatter3d"
           }
          ],
          "scattercarpet": [
           {
            "marker": {
             "colorbar": {
              "outlinewidth": 0,
              "ticks": ""
             }
            },
            "type": "scattercarpet"
           }
          ],
          "scattergeo": [
           {
            "marker": {
             "colorbar": {
              "outlinewidth": 0,
              "ticks": ""
             }
            },
            "type": "scattergeo"
           }
          ],
          "scattergl": [
           {
            "marker": {
             "colorbar": {
              "outlinewidth": 0,
              "ticks": ""
             }
            },
            "type": "scattergl"
           }
          ],
          "scattermapbox": [
           {
            "marker": {
             "colorbar": {
              "outlinewidth": 0,
              "ticks": ""
             }
            },
            "type": "scattermapbox"
           }
          ],
          "scatterpolar": [
           {
            "marker": {
             "colorbar": {
              "outlinewidth": 0,
              "ticks": ""
             }
            },
            "type": "scatterpolar"
           }
          ],
          "scatterpolargl": [
           {
            "marker": {
             "colorbar": {
              "outlinewidth": 0,
              "ticks": ""
             }
            },
            "type": "scatterpolargl"
           }
          ],
          "scatterternary": [
           {
            "marker": {
             "colorbar": {
              "outlinewidth": 0,
              "ticks": ""
             }
            },
            "type": "scatterternary"
           }
          ],
          "surface": [
           {
            "colorbar": {
             "outlinewidth": 0,
             "ticks": ""
            },
            "colorscale": [
             [
              0,
              "#0d0887"
             ],
             [
              0.1111111111111111,
              "#46039f"
             ],
             [
              0.2222222222222222,
              "#7201a8"
             ],
             [
              0.3333333333333333,
              "#9c179e"
             ],
             [
              0.4444444444444444,
              "#bd3786"
             ],
             [
              0.5555555555555556,
              "#d8576b"
             ],
             [
              0.6666666666666666,
              "#ed7953"
             ],
             [
              0.7777777777777778,
              "#fb9f3a"
             ],
             [
              0.8888888888888888,
              "#fdca26"
             ],
             [
              1,
              "#f0f921"
             ]
            ],
            "type": "surface"
           }
          ],
          "table": [
           {
            "cells": {
             "fill": {
              "color": "#EBF0F8"
             },
             "line": {
              "color": "white"
             }
            },
            "header": {
             "fill": {
              "color": "#C8D4E3"
             },
             "line": {
              "color": "white"
             }
            },
            "type": "table"
           }
          ]
         },
         "layout": {
          "annotationdefaults": {
           "arrowcolor": "#2a3f5f",
           "arrowhead": 0,
           "arrowwidth": 1
          },
          "autotypenumbers": "strict",
          "coloraxis": {
           "colorbar": {
            "outlinewidth": 0,
            "ticks": ""
           }
          },
          "colorscale": {
           "diverging": [
            [
             0,
             "#8e0152"
            ],
            [
             0.1,
             "#c51b7d"
            ],
            [
             0.2,
             "#de77ae"
            ],
            [
             0.3,
             "#f1b6da"
            ],
            [
             0.4,
             "#fde0ef"
            ],
            [
             0.5,
             "#f7f7f7"
            ],
            [
             0.6,
             "#e6f5d0"
            ],
            [
             0.7,
             "#b8e186"
            ],
            [
             0.8,
             "#7fbc41"
            ],
            [
             0.9,
             "#4d9221"
            ],
            [
             1,
             "#276419"
            ]
           ],
           "sequential": [
            [
             0,
             "#0d0887"
            ],
            [
             0.1111111111111111,
             "#46039f"
            ],
            [
             0.2222222222222222,
             "#7201a8"
            ],
            [
             0.3333333333333333,
             "#9c179e"
            ],
            [
             0.4444444444444444,
             "#bd3786"
            ],
            [
             0.5555555555555556,
             "#d8576b"
            ],
            [
             0.6666666666666666,
             "#ed7953"
            ],
            [
             0.7777777777777778,
             "#fb9f3a"
            ],
            [
             0.8888888888888888,
             "#fdca26"
            ],
            [
             1,
             "#f0f921"
            ]
           ],
           "sequentialminus": [
            [
             0,
             "#0d0887"
            ],
            [
             0.1111111111111111,
             "#46039f"
            ],
            [
             0.2222222222222222,
             "#7201a8"
            ],
            [
             0.3333333333333333,
             "#9c179e"
            ],
            [
             0.4444444444444444,
             "#bd3786"
            ],
            [
             0.5555555555555556,
             "#d8576b"
            ],
            [
             0.6666666666666666,
             "#ed7953"
            ],
            [
             0.7777777777777778,
             "#fb9f3a"
            ],
            [
             0.8888888888888888,
             "#fdca26"
            ],
            [
             1,
             "#f0f921"
            ]
           ]
          },
          "colorway": [
           "#636efa",
           "#EF553B",
           "#00cc96",
           "#ab63fa",
           "#FFA15A",
           "#19d3f3",
           "#FF6692",
           "#B6E880",
           "#FF97FF",
           "#FECB52"
          ],
          "font": {
           "color": "#2a3f5f"
          },
          "geo": {
           "bgcolor": "white",
           "lakecolor": "white",
           "landcolor": "#E5ECF6",
           "showlakes": true,
           "showland": true,
           "subunitcolor": "white"
          },
          "hoverlabel": {
           "align": "left"
          },
          "hovermode": "closest",
          "mapbox": {
           "style": "light"
          },
          "paper_bgcolor": "white",
          "plot_bgcolor": "#E5ECF6",
          "polar": {
           "angularaxis": {
            "gridcolor": "white",
            "linecolor": "white",
            "ticks": ""
           },
           "bgcolor": "#E5ECF6",
           "radialaxis": {
            "gridcolor": "white",
            "linecolor": "white",
            "ticks": ""
           }
          },
          "scene": {
           "xaxis": {
            "backgroundcolor": "#E5ECF6",
            "gridcolor": "white",
            "gridwidth": 2,
            "linecolor": "white",
            "showbackground": true,
            "ticks": "",
            "zerolinecolor": "white"
           },
           "yaxis": {
            "backgroundcolor": "#E5ECF6",
            "gridcolor": "white",
            "gridwidth": 2,
            "linecolor": "white",
            "showbackground": true,
            "ticks": "",
            "zerolinecolor": "white"
           },
           "zaxis": {
            "backgroundcolor": "#E5ECF6",
            "gridcolor": "white",
            "gridwidth": 2,
            "linecolor": "white",
            "showbackground": true,
            "ticks": "",
            "zerolinecolor": "white"
           }
          },
          "shapedefaults": {
           "line": {
            "color": "#2a3f5f"
           }
          },
          "ternary": {
           "aaxis": {
            "gridcolor": "white",
            "linecolor": "white",
            "ticks": ""
           },
           "baxis": {
            "gridcolor": "white",
            "linecolor": "white",
            "ticks": ""
           },
           "bgcolor": "#E5ECF6",
           "caxis": {
            "gridcolor": "white",
            "linecolor": "white",
            "ticks": ""
           }
          },
          "title": {
           "x": 0.05
          },
          "xaxis": {
           "automargin": true,
           "gridcolor": "white",
           "linecolor": "white",
           "ticks": "",
           "title": {
            "standoff": 15
           },
           "zerolinecolor": "white",
           "zerolinewidth": 2
          },
          "yaxis": {
           "automargin": true,
           "gridcolor": "white",
           "linecolor": "white",
           "ticks": "",
           "title": {
            "standoff": 15
           },
           "zerolinecolor": "white",
           "zerolinewidth": 2
          }
         }
        },
        "title": {
         "text": "Cosmetics Brands vs Outcomes"
        },
        "width": 1500
       }
      }
     },
     "metadata": {},
     "output_type": "display_data"
    },
    {
     "data": {
      "text/plain": [
       "'../reports/figures/brands_vs_outcomes_cosmetics.html'"
      ]
     },
     "execution_count": 224,
     "metadata": {},
     "output_type": "execute_result"
    }
   ],
   "source": [
    "# Cosmetics Brand vs Outcomes\n",
    "\n",
    "data = []\n",
    "relv_outcomes = [\"Death\",\"Life Threatening\",\"Hospitalization\",\"Disability\",\"Patient Visited ER\"]\n",
    "\n",
    "for i,outcome in enumerate(relv_outcomes):\n",
    "    \n",
    "    top_brands = list(g.iloc[g.index.get_level_values('outcomes')==outcome].reset_index()[:5]['brand'])\n",
    "    brand_count = list(g.iloc[g.index.get_level_values('outcomes')==outcome].reset_index()[:5]['report_id'])\n",
    "\n",
    "    data.append(go.Bar(name=outcome, x = top_brands,y = brand_count))\n",
    "\n",
    "fig = go.Figure(data=data)\n",
    "\n",
    "fig.layout.update(title=\"Cosmetics Brands vs Outcomes\", height = 500, width = 1500,barmode = \"stack\")\n",
    "fig.show()\n",
    "plot(fig, filename =\"../reports/figures/brands_vs_outcomes_cosmetics.html\")\n",
    "\n",
    "\n"
   ]
  },
  {
   "cell_type": "code",
   "execution_count": 225,
   "metadata": {},
   "outputs": [],
   "source": [
    "# Vit/Min/Prot/Unconv Diet(Human/Animal)  Brand clustering\n",
    "\n",
    "vit_df = expl_aggReports[(expl_aggReports['category']==\"Vit/Min/Prot/Unconv Diet(Human/Animal)\") & (expl_aggReports['product']!=\"EXEMPTION 4\")].copy()\n",
    "\n",
    "vit_df.dropna(inplace=True)\n",
    "\n",
    "\n",
    "vit_df['brand'] =vit_df['product'].apply(clean_prod,1)\n",
    "\n",
    "vit_g=vit_df.groupby(['outcomes','brand'])['report_id'].count().sort_values(ascending=False)\n",
    "\n"
   ]
  },
  {
   "cell_type": "code",
   "execution_count": 227,
   "metadata": {},
   "outputs": [
    {
     "data": {
      "application/vnd.plotly.v1+json": {
       "config": {
        "plotlyServerURL": "https://plot.ly"
       },
       "data": [
        {
         "name": "Death",
         "type": "bar",
         "x": [
          "KRATOM",
          "CENTRUM SILVER",
          "PURITANS PRIDE",
          "BENEFIBER WHEAT",
          "ONE DAY"
         ],
         "y": [
          130,
          68,
          56,
          24,
          20
         ]
        },
        {
         "name": "Life Threatening",
         "type": "bar",
         "x": [
          "PURITANS PRIDE",
          "VITAMIN",
          "MULTIVITAMIN",
          "FISH OIL",
          "NATURES BOUNTY"
         ],
         "y": [
          231,
          90,
          88,
          78,
          63
         ]
        },
        {
         "name": "Hospitalization",
         "type": "bar",
         "x": [
          "PURITANS PRIDE",
          "SUPER BETA",
          "CENTRUM SILVER",
          "DAY ENERGY",
          "VITAMIN"
         ],
         "y": [
          1091,
          429,
          354,
          223,
          210
         ]
        },
        {
         "name": "Disability",
         "type": "bar",
         "x": [
          "VITAMIN",
          "MULTIVITAMIN",
          "FISH OIL",
          "VITAMIN C",
          "VITAMIN D3"
         ],
         "y": [
          99,
          87,
          77,
          51,
          48
         ]
        },
        {
         "name": "Patient Visited ER",
         "type": "bar",
         "x": [
          "PURITANS PRIDE",
          "SUPER BETA",
          "MULTIVITAMIN",
          "VITAMIN",
          "FISH OIL"
         ],
         "y": [
          655,
          250,
          184,
          178,
          154
         ]
        }
       ],
       "layout": {
        "barmode": "stack",
        "height": 500,
        "template": {
         "data": {
          "bar": [
           {
            "error_x": {
             "color": "#2a3f5f"
            },
            "error_y": {
             "color": "#2a3f5f"
            },
            "marker": {
             "line": {
              "color": "#E5ECF6",
              "width": 0.5
             },
             "pattern": {
              "fillmode": "overlay",
              "size": 10,
              "solidity": 0.2
             }
            },
            "type": "bar"
           }
          ],
          "barpolar": [
           {
            "marker": {
             "line": {
              "color": "#E5ECF6",
              "width": 0.5
             },
             "pattern": {
              "fillmode": "overlay",
              "size": 10,
              "solidity": 0.2
             }
            },
            "type": "barpolar"
           }
          ],
          "carpet": [
           {
            "aaxis": {
             "endlinecolor": "#2a3f5f",
             "gridcolor": "white",
             "linecolor": "white",
             "minorgridcolor": "white",
             "startlinecolor": "#2a3f5f"
            },
            "baxis": {
             "endlinecolor": "#2a3f5f",
             "gridcolor": "white",
             "linecolor": "white",
             "minorgridcolor": "white",
             "startlinecolor": "#2a3f5f"
            },
            "type": "carpet"
           }
          ],
          "choropleth": [
           {
            "colorbar": {
             "outlinewidth": 0,
             "ticks": ""
            },
            "type": "choropleth"
           }
          ],
          "contour": [
           {
            "colorbar": {
             "outlinewidth": 0,
             "ticks": ""
            },
            "colorscale": [
             [
              0,
              "#0d0887"
             ],
             [
              0.1111111111111111,
              "#46039f"
             ],
             [
              0.2222222222222222,
              "#7201a8"
             ],
             [
              0.3333333333333333,
              "#9c179e"
             ],
             [
              0.4444444444444444,
              "#bd3786"
             ],
             [
              0.5555555555555556,
              "#d8576b"
             ],
             [
              0.6666666666666666,
              "#ed7953"
             ],
             [
              0.7777777777777778,
              "#fb9f3a"
             ],
             [
              0.8888888888888888,
              "#fdca26"
             ],
             [
              1,
              "#f0f921"
             ]
            ],
            "type": "contour"
           }
          ],
          "contourcarpet": [
           {
            "colorbar": {
             "outlinewidth": 0,
             "ticks": ""
            },
            "type": "contourcarpet"
           }
          ],
          "heatmap": [
           {
            "colorbar": {
             "outlinewidth": 0,
             "ticks": ""
            },
            "colorscale": [
             [
              0,
              "#0d0887"
             ],
             [
              0.1111111111111111,
              "#46039f"
             ],
             [
              0.2222222222222222,
              "#7201a8"
             ],
             [
              0.3333333333333333,
              "#9c179e"
             ],
             [
              0.4444444444444444,
              "#bd3786"
             ],
             [
              0.5555555555555556,
              "#d8576b"
             ],
             [
              0.6666666666666666,
              "#ed7953"
             ],
             [
              0.7777777777777778,
              "#fb9f3a"
             ],
             [
              0.8888888888888888,
              "#fdca26"
             ],
             [
              1,
              "#f0f921"
             ]
            ],
            "type": "heatmap"
           }
          ],
          "heatmapgl": [
           {
            "colorbar": {
             "outlinewidth": 0,
             "ticks": ""
            },
            "colorscale": [
             [
              0,
              "#0d0887"
             ],
             [
              0.1111111111111111,
              "#46039f"
             ],
             [
              0.2222222222222222,
              "#7201a8"
             ],
             [
              0.3333333333333333,
              "#9c179e"
             ],
             [
              0.4444444444444444,
              "#bd3786"
             ],
             [
              0.5555555555555556,
              "#d8576b"
             ],
             [
              0.6666666666666666,
              "#ed7953"
             ],
             [
              0.7777777777777778,
              "#fb9f3a"
             ],
             [
              0.8888888888888888,
              "#fdca26"
             ],
             [
              1,
              "#f0f921"
             ]
            ],
            "type": "heatmapgl"
           }
          ],
          "histogram": [
           {
            "marker": {
             "pattern": {
              "fillmode": "overlay",
              "size": 10,
              "solidity": 0.2
             }
            },
            "type": "histogram"
           }
          ],
          "histogram2d": [
           {
            "colorbar": {
             "outlinewidth": 0,
             "ticks": ""
            },
            "colorscale": [
             [
              0,
              "#0d0887"
             ],
             [
              0.1111111111111111,
              "#46039f"
             ],
             [
              0.2222222222222222,
              "#7201a8"
             ],
             [
              0.3333333333333333,
              "#9c179e"
             ],
             [
              0.4444444444444444,
              "#bd3786"
             ],
             [
              0.5555555555555556,
              "#d8576b"
             ],
             [
              0.6666666666666666,
              "#ed7953"
             ],
             [
              0.7777777777777778,
              "#fb9f3a"
             ],
             [
              0.8888888888888888,
              "#fdca26"
             ],
             [
              1,
              "#f0f921"
             ]
            ],
            "type": "histogram2d"
           }
          ],
          "histogram2dcontour": [
           {
            "colorbar": {
             "outlinewidth": 0,
             "ticks": ""
            },
            "colorscale": [
             [
              0,
              "#0d0887"
             ],
             [
              0.1111111111111111,
              "#46039f"
             ],
             [
              0.2222222222222222,
              "#7201a8"
             ],
             [
              0.3333333333333333,
              "#9c179e"
             ],
             [
              0.4444444444444444,
              "#bd3786"
             ],
             [
              0.5555555555555556,
              "#d8576b"
             ],
             [
              0.6666666666666666,
              "#ed7953"
             ],
             [
              0.7777777777777778,
              "#fb9f3a"
             ],
             [
              0.8888888888888888,
              "#fdca26"
             ],
             [
              1,
              "#f0f921"
             ]
            ],
            "type": "histogram2dcontour"
           }
          ],
          "mesh3d": [
           {
            "colorbar": {
             "outlinewidth": 0,
             "ticks": ""
            },
            "type": "mesh3d"
           }
          ],
          "parcoords": [
           {
            "line": {
             "colorbar": {
              "outlinewidth": 0,
              "ticks": ""
             }
            },
            "type": "parcoords"
           }
          ],
          "pie": [
           {
            "automargin": true,
            "type": "pie"
           }
          ],
          "scatter": [
           {
            "marker": {
             "colorbar": {
              "outlinewidth": 0,
              "ticks": ""
             }
            },
            "type": "scatter"
           }
          ],
          "scatter3d": [
           {
            "line": {
             "colorbar": {
              "outlinewidth": 0,
              "ticks": ""
             }
            },
            "marker": {
             "colorbar": {
              "outlinewidth": 0,
              "ticks": ""
             }
            },
            "type": "scatter3d"
           }
          ],
          "scattercarpet": [
           {
            "marker": {
             "colorbar": {
              "outlinewidth": 0,
              "ticks": ""
             }
            },
            "type": "scattercarpet"
           }
          ],
          "scattergeo": [
           {
            "marker": {
             "colorbar": {
              "outlinewidth": 0,
              "ticks": ""
             }
            },
            "type": "scattergeo"
           }
          ],
          "scattergl": [
           {
            "marker": {
             "colorbar": {
              "outlinewidth": 0,
              "ticks": ""
             }
            },
            "type": "scattergl"
           }
          ],
          "scattermapbox": [
           {
            "marker": {
             "colorbar": {
              "outlinewidth": 0,
              "ticks": ""
             }
            },
            "type": "scattermapbox"
           }
          ],
          "scatterpolar": [
           {
            "marker": {
             "colorbar": {
              "outlinewidth": 0,
              "ticks": ""
             }
            },
            "type": "scatterpolar"
           }
          ],
          "scatterpolargl": [
           {
            "marker": {
             "colorbar": {
              "outlinewidth": 0,
              "ticks": ""
             }
            },
            "type": "scatterpolargl"
           }
          ],
          "scatterternary": [
           {
            "marker": {
             "colorbar": {
              "outlinewidth": 0,
              "ticks": ""
             }
            },
            "type": "scatterternary"
           }
          ],
          "surface": [
           {
            "colorbar": {
             "outlinewidth": 0,
             "ticks": ""
            },
            "colorscale": [
             [
              0,
              "#0d0887"
             ],
             [
              0.1111111111111111,
              "#46039f"
             ],
             [
              0.2222222222222222,
              "#7201a8"
             ],
             [
              0.3333333333333333,
              "#9c179e"
             ],
             [
              0.4444444444444444,
              "#bd3786"
             ],
             [
              0.5555555555555556,
              "#d8576b"
             ],
             [
              0.6666666666666666,
              "#ed7953"
             ],
             [
              0.7777777777777778,
              "#fb9f3a"
             ],
             [
              0.8888888888888888,
              "#fdca26"
             ],
             [
              1,
              "#f0f921"
             ]
            ],
            "type": "surface"
           }
          ],
          "table": [
           {
            "cells": {
             "fill": {
              "color": "#EBF0F8"
             },
             "line": {
              "color": "white"
             }
            },
            "header": {
             "fill": {
              "color": "#C8D4E3"
             },
             "line": {
              "color": "white"
             }
            },
            "type": "table"
           }
          ]
         },
         "layout": {
          "annotationdefaults": {
           "arrowcolor": "#2a3f5f",
           "arrowhead": 0,
           "arrowwidth": 1
          },
          "autotypenumbers": "strict",
          "coloraxis": {
           "colorbar": {
            "outlinewidth": 0,
            "ticks": ""
           }
          },
          "colorscale": {
           "diverging": [
            [
             0,
             "#8e0152"
            ],
            [
             0.1,
             "#c51b7d"
            ],
            [
             0.2,
             "#de77ae"
            ],
            [
             0.3,
             "#f1b6da"
            ],
            [
             0.4,
             "#fde0ef"
            ],
            [
             0.5,
             "#f7f7f7"
            ],
            [
             0.6,
             "#e6f5d0"
            ],
            [
             0.7,
             "#b8e186"
            ],
            [
             0.8,
             "#7fbc41"
            ],
            [
             0.9,
             "#4d9221"
            ],
            [
             1,
             "#276419"
            ]
           ],
           "sequential": [
            [
             0,
             "#0d0887"
            ],
            [
             0.1111111111111111,
             "#46039f"
            ],
            [
             0.2222222222222222,
             "#7201a8"
            ],
            [
             0.3333333333333333,
             "#9c179e"
            ],
            [
             0.4444444444444444,
             "#bd3786"
            ],
            [
             0.5555555555555556,
             "#d8576b"
            ],
            [
             0.6666666666666666,
             "#ed7953"
            ],
            [
             0.7777777777777778,
             "#fb9f3a"
            ],
            [
             0.8888888888888888,
             "#fdca26"
            ],
            [
             1,
             "#f0f921"
            ]
           ],
           "sequentialminus": [
            [
             0,
             "#0d0887"
            ],
            [
             0.1111111111111111,
             "#46039f"
            ],
            [
             0.2222222222222222,
             "#7201a8"
            ],
            [
             0.3333333333333333,
             "#9c179e"
            ],
            [
             0.4444444444444444,
             "#bd3786"
            ],
            [
             0.5555555555555556,
             "#d8576b"
            ],
            [
             0.6666666666666666,
             "#ed7953"
            ],
            [
             0.7777777777777778,
             "#fb9f3a"
            ],
            [
             0.8888888888888888,
             "#fdca26"
            ],
            [
             1,
             "#f0f921"
            ]
           ]
          },
          "colorway": [
           "#636efa",
           "#EF553B",
           "#00cc96",
           "#ab63fa",
           "#FFA15A",
           "#19d3f3",
           "#FF6692",
           "#B6E880",
           "#FF97FF",
           "#FECB52"
          ],
          "font": {
           "color": "#2a3f5f"
          },
          "geo": {
           "bgcolor": "white",
           "lakecolor": "white",
           "landcolor": "#E5ECF6",
           "showlakes": true,
           "showland": true,
           "subunitcolor": "white"
          },
          "hoverlabel": {
           "align": "left"
          },
          "hovermode": "closest",
          "mapbox": {
           "style": "light"
          },
          "paper_bgcolor": "white",
          "plot_bgcolor": "#E5ECF6",
          "polar": {
           "angularaxis": {
            "gridcolor": "white",
            "linecolor": "white",
            "ticks": ""
           },
           "bgcolor": "#E5ECF6",
           "radialaxis": {
            "gridcolor": "white",
            "linecolor": "white",
            "ticks": ""
           }
          },
          "scene": {
           "xaxis": {
            "backgroundcolor": "#E5ECF6",
            "gridcolor": "white",
            "gridwidth": 2,
            "linecolor": "white",
            "showbackground": true,
            "ticks": "",
            "zerolinecolor": "white"
           },
           "yaxis": {
            "backgroundcolor": "#E5ECF6",
            "gridcolor": "white",
            "gridwidth": 2,
            "linecolor": "white",
            "showbackground": true,
            "ticks": "",
            "zerolinecolor": "white"
           },
           "zaxis": {
            "backgroundcolor": "#E5ECF6",
            "gridcolor": "white",
            "gridwidth": 2,
            "linecolor": "white",
            "showbackground": true,
            "ticks": "",
            "zerolinecolor": "white"
           }
          },
          "shapedefaults": {
           "line": {
            "color": "#2a3f5f"
           }
          },
          "ternary": {
           "aaxis": {
            "gridcolor": "white",
            "linecolor": "white",
            "ticks": ""
           },
           "baxis": {
            "gridcolor": "white",
            "linecolor": "white",
            "ticks": ""
           },
           "bgcolor": "#E5ECF6",
           "caxis": {
            "gridcolor": "white",
            "linecolor": "white",
            "ticks": ""
           }
          },
          "title": {
           "x": 0.05
          },
          "xaxis": {
           "automargin": true,
           "gridcolor": "white",
           "linecolor": "white",
           "ticks": "",
           "title": {
            "standoff": 15
           },
           "zerolinecolor": "white",
           "zerolinewidth": 2
          },
          "yaxis": {
           "automargin": true,
           "gridcolor": "white",
           "linecolor": "white",
           "ticks": "",
           "title": {
            "standoff": 15
           },
           "zerolinecolor": "white",
           "zerolinewidth": 2
          }
         }
        },
        "title": {
         "text": "Vitamins Products vs Outcomes"
        },
        "width": 1500
       }
      }
     },
     "metadata": {},
     "output_type": "display_data"
    },
    {
     "data": {
      "text/plain": [
       "'../reports/figures/brands_vs_outcomes_vit.html'"
      ]
     },
     "execution_count": 227,
     "metadata": {},
     "output_type": "execute_result"
    }
   ],
   "source": [
    "# Vitamins product vs Outcomes\n",
    "\n",
    "data = []\n",
    "\n",
    "relv_outcomes = [\"Death\",\"Life Threatening\",\"Hospitalization\",\"Disability\",\"Patient Visited ER\"]\n",
    "\n",
    "for i,outcome in enumerate(relv_outcomes):\n",
    "    \n",
    "    top_brands = list(vit_g.iloc[vit_g.index.get_level_values('outcomes')==outcome].reset_index()[:5]['brand'])\n",
    "    brand_count = list(vit_g.iloc[vit_g.index.get_level_values('outcomes')==outcome].reset_index()[:5]['report_id'])\n",
    "\n",
    "    data.append(go.Bar(name=outcome, x = top_brands,y = brand_count))\n",
    "\n",
    "fig = go.Figure(data=data)\n",
    "\n",
    "fig.layout.update(title=\"Vitamins Products vs Outcomes\", height = 500, width = 1500,barmode = \"stack\")\n",
    "fig.show()\n",
    "plot(fig, filename =\"../reports/figures/brands_vs_outcomes_vit.html\")\n",
    "\n",
    "\n"
   ]
  },
  {
   "cell_type": "code",
   "execution_count": 228,
   "metadata": {},
   "outputs": [],
   "source": [
    "# Vegetables/Vegetable Products Brand clustering\n",
    "veg_df = expl_aggReports[(expl_aggReports['category']==\"Vegetables/Vegetable Products\") & (expl_aggReports['product']!=\"EXEMPTION 4\")].copy()\n",
    "\n",
    "veg_df.dropna(inplace=True)\n",
    "\n",
    "def brand(x):\n",
    "    stop = stopwords.words('english')\n",
    "    n_x = [_.upper() for _ in x.lower().split(\" \") if _ not in stop]\n",
    "    if len(n_x)==0:\n",
    "        return \"\"\n",
    "    return n_x[0]  \n",
    "\n",
    "def clean_prod(x):\n",
    "    regex = re.compile('[%s]' % re.escape(string.punctuation))\n",
    "\n",
    "    x = regex.sub('', x)\n",
    "    stop = stopwords.words('english')\n",
    "    n_x = [_.upper() for _ in x.lower().split(\" \") if _ not in stop]\n",
    "    \n",
    "    return \" \".join(n_x) if len(n_x)<2 else \" \".join(n_x[:2])\n",
    "\n",
    "veg_df['brand'] =veg_df['product'].apply(brand,1)\n",
    "\n",
    "veg_g=veg_df.groupby(['outcomes','brand'])['report_id'].count().sort_values(ascending=False)\n",
    "\n"
   ]
  },
  {
   "cell_type": "code",
   "execution_count": 229,
   "metadata": {},
   "outputs": [
    {
     "data": {
      "text/html": [
       "<div>\n",
       "<style scoped>\n",
       "    .dataframe tbody tr th:only-of-type {\n",
       "        vertical-align: middle;\n",
       "    }\n",
       "\n",
       "    .dataframe tbody tr th {\n",
       "        vertical-align: top;\n",
       "    }\n",
       "\n",
       "    .dataframe thead th {\n",
       "        text-align: right;\n",
       "    }\n",
       "</style>\n",
       "<table border=\"1\" class=\"dataframe\">\n",
       "  <thead>\n",
       "    <tr style=\"text-align: right;\">\n",
       "      <th></th>\n",
       "      <th>report_id</th>\n",
       "      <th>product</th>\n",
       "      <th>category</th>\n",
       "      <th>outcomes</th>\n",
       "      <th>brand</th>\n",
       "    </tr>\n",
       "  </thead>\n",
       "  <tbody>\n",
       "    <tr>\n",
       "      <th>422</th>\n",
       "      <td>173158</td>\n",
       "      <td>DOLE SPINACH, LEAF AND STEM VEGETABLE</td>\n",
       "      <td>Vegetables/Vegetable Products</td>\n",
       "      <td>Other Outcome</td>\n",
       "      <td>DOLE</td>\n",
       "    </tr>\n",
       "    <tr>\n",
       "      <th>474</th>\n",
       "      <td>173226</td>\n",
       "      <td>DOLE BRAND HEART OF ROMAINE LETTUCE</td>\n",
       "      <td>Vegetables/Vegetable Products</td>\n",
       "      <td>Hospitalization</td>\n",
       "      <td>DOLE</td>\n",
       "    </tr>\n",
       "    <tr>\n",
       "      <th>475</th>\n",
       "      <td>173226</td>\n",
       "      <td>DOLE BRAND HEART OF ROMAINE LETTUCE</td>\n",
       "      <td>Vegetables/Vegetable Products</td>\n",
       "      <td>Patient Visited ER</td>\n",
       "      <td>DOLE</td>\n",
       "    </tr>\n",
       "    <tr>\n",
       "      <th>476</th>\n",
       "      <td>173226</td>\n",
       "      <td>DOLE BRAND HEART OF ROMAINE LETTUCE</td>\n",
       "      <td>Vegetables/Vegetable Products</td>\n",
       "      <td></td>\n",
       "      <td>DOLE</td>\n",
       "    </tr>\n",
       "    <tr>\n",
       "      <th>562</th>\n",
       "      <td>173293</td>\n",
       "      <td>DOLE SPRING MIX</td>\n",
       "      <td>Vegetables/Vegetable Products</td>\n",
       "      <td>Other Outcome</td>\n",
       "      <td>DOLE</td>\n",
       "    </tr>\n",
       "    <tr>\n",
       "      <th>...</th>\n",
       "      <td>...</td>\n",
       "      <td>...</td>\n",
       "      <td>...</td>\n",
       "      <td>...</td>\n",
       "      <td>...</td>\n",
       "    </tr>\n",
       "    <tr>\n",
       "      <th>243034</th>\n",
       "      <td>165063</td>\n",
       "      <td>DOLE SPRING MIX</td>\n",
       "      <td>Vegetables/Vegetable Products</td>\n",
       "      <td>Other Outcome</td>\n",
       "      <td>DOLE</td>\n",
       "    </tr>\n",
       "    <tr>\n",
       "      <th>243094</th>\n",
       "      <td>165068</td>\n",
       "      <td>DOLE SPRING MIX</td>\n",
       "      <td>Vegetables/Vegetable Products</td>\n",
       "      <td>Other Outcome</td>\n",
       "      <td>DOLE</td>\n",
       "    </tr>\n",
       "    <tr>\n",
       "      <th>246507</th>\n",
       "      <td>168555</td>\n",
       "      <td>DOLE ROMAINE LETTUCE SALAD MIX</td>\n",
       "      <td>Vegetables/Vegetable Products</td>\n",
       "      <td>Other Outcome</td>\n",
       "      <td>DOLE</td>\n",
       "    </tr>\n",
       "    <tr>\n",
       "      <th>249661</th>\n",
       "      <td>170698</td>\n",
       "      <td>DOLE DOLE CLASSIC ROMAINE LETTUCE</td>\n",
       "      <td>Vegetables/Vegetable Products</td>\n",
       "      <td>Patient Visited Healthcare Provider</td>\n",
       "      <td>DOLE</td>\n",
       "    </tr>\n",
       "    <tr>\n",
       "      <th>249662</th>\n",
       "      <td>170698</td>\n",
       "      <td>DOLE DOLE CLASSIC ROMAINE LETTUCE</td>\n",
       "      <td>Vegetables/Vegetable Products</td>\n",
       "      <td>Patient Visited ER</td>\n",
       "      <td>DOLE</td>\n",
       "    </tr>\n",
       "  </tbody>\n",
       "</table>\n",
       "<p>256 rows × 5 columns</p>\n",
       "</div>"
      ],
      "text/plain": [
       "       report_id                                product  \\\n",
       "422       173158  DOLE SPINACH, LEAF AND STEM VEGETABLE   \n",
       "474       173226    DOLE BRAND HEART OF ROMAINE LETTUCE   \n",
       "475       173226    DOLE BRAND HEART OF ROMAINE LETTUCE   \n",
       "476       173226    DOLE BRAND HEART OF ROMAINE LETTUCE   \n",
       "562       173293                        DOLE SPRING MIX   \n",
       "...          ...                                    ...   \n",
       "243034    165063                        DOLE SPRING MIX   \n",
       "243094    165068                        DOLE SPRING MIX   \n",
       "246507    168555         DOLE ROMAINE LETTUCE SALAD MIX   \n",
       "249661    170698      DOLE DOLE CLASSIC ROMAINE LETTUCE   \n",
       "249662    170698      DOLE DOLE CLASSIC ROMAINE LETTUCE   \n",
       "\n",
       "                             category                             outcomes  \\\n",
       "422     Vegetables/Vegetable Products                        Other Outcome   \n",
       "474     Vegetables/Vegetable Products                      Hospitalization   \n",
       "475     Vegetables/Vegetable Products                   Patient Visited ER   \n",
       "476     Vegetables/Vegetable Products                                        \n",
       "562     Vegetables/Vegetable Products                        Other Outcome   \n",
       "...                               ...                                  ...   \n",
       "243034  Vegetables/Vegetable Products                        Other Outcome   \n",
       "243094  Vegetables/Vegetable Products                        Other Outcome   \n",
       "246507  Vegetables/Vegetable Products                        Other Outcome   \n",
       "249661  Vegetables/Vegetable Products  Patient Visited Healthcare Provider   \n",
       "249662  Vegetables/Vegetable Products                   Patient Visited ER   \n",
       "\n",
       "       brand  \n",
       "422     DOLE  \n",
       "474     DOLE  \n",
       "475     DOLE  \n",
       "476     DOLE  \n",
       "562     DOLE  \n",
       "...      ...  \n",
       "243034  DOLE  \n",
       "243094  DOLE  \n",
       "246507  DOLE  \n",
       "249661  DOLE  \n",
       "249662  DOLE  \n",
       "\n",
       "[256 rows x 5 columns]"
      ]
     },
     "execution_count": 229,
     "metadata": {},
     "output_type": "execute_result"
    }
   ],
   "source": [
    "veg_df[veg_df['brand']==\"DOLE\"]"
   ]
  },
  {
   "cell_type": "code",
   "execution_count": 231,
   "metadata": {},
   "outputs": [
    {
     "data": {
      "application/vnd.plotly.v1+json": {
       "config": {
        "plotlyServerURL": "https://plot.ly"
       },
       "data": [
        {
         "name": "Death",
         "type": "bar",
         "x": [
          "QUORN",
          "FRESH",
          "WEST",
          "ORGANIC",
          "GREEN"
         ],
         "y": [
          3,
          2,
          1,
          1,
          1
         ]
        },
        {
         "name": "Life Threatening",
         "type": "bar",
         "x": [
          "DOLE",
          "HEALTH",
          "SLICED",
          "WHOLE",
          "FRESH"
         ],
         "y": [
          7,
          6,
          4,
          3,
          3
         ]
        },
        {
         "name": "Hospitalization",
         "type": "bar",
         "x": [
          "QUORN",
          "DOLE",
          "FRESH",
          "ROMAINE",
          "GOYA"
         ],
         "y": [
          12,
          9,
          8,
          8,
          6
         ]
        },
        {
         "name": "Disability",
         "type": "bar",
         "x": [
          "FRESH",
          "QUORN",
          "MANN'S",
          "KROGER",
          "LUDY'S"
         ],
         "y": [
          10,
          5,
          5,
          4,
          4
         ]
        },
        {
         "name": "Patient Visited ER",
         "type": "bar",
         "x": [
          "DOLE",
          "FRESH",
          "QUORN",
          "GLORY",
          "EARTHBOUND"
         ],
         "y": [
          29,
          26,
          25,
          11,
          9
         ]
        }
       ],
       "layout": {
        "barmode": "stack",
        "height": 500,
        "template": {
         "data": {
          "bar": [
           {
            "error_x": {
             "color": "#2a3f5f"
            },
            "error_y": {
             "color": "#2a3f5f"
            },
            "marker": {
             "line": {
              "color": "#E5ECF6",
              "width": 0.5
             },
             "pattern": {
              "fillmode": "overlay",
              "size": 10,
              "solidity": 0.2
             }
            },
            "type": "bar"
           }
          ],
          "barpolar": [
           {
            "marker": {
             "line": {
              "color": "#E5ECF6",
              "width": 0.5
             },
             "pattern": {
              "fillmode": "overlay",
              "size": 10,
              "solidity": 0.2
             }
            },
            "type": "barpolar"
           }
          ],
          "carpet": [
           {
            "aaxis": {
             "endlinecolor": "#2a3f5f",
             "gridcolor": "white",
             "linecolor": "white",
             "minorgridcolor": "white",
             "startlinecolor": "#2a3f5f"
            },
            "baxis": {
             "endlinecolor": "#2a3f5f",
             "gridcolor": "white",
             "linecolor": "white",
             "minorgridcolor": "white",
             "startlinecolor": "#2a3f5f"
            },
            "type": "carpet"
           }
          ],
          "choropleth": [
           {
            "colorbar": {
             "outlinewidth": 0,
             "ticks": ""
            },
            "type": "choropleth"
           }
          ],
          "contour": [
           {
            "colorbar": {
             "outlinewidth": 0,
             "ticks": ""
            },
            "colorscale": [
             [
              0,
              "#0d0887"
             ],
             [
              0.1111111111111111,
              "#46039f"
             ],
             [
              0.2222222222222222,
              "#7201a8"
             ],
             [
              0.3333333333333333,
              "#9c179e"
             ],
             [
              0.4444444444444444,
              "#bd3786"
             ],
             [
              0.5555555555555556,
              "#d8576b"
             ],
             [
              0.6666666666666666,
              "#ed7953"
             ],
             [
              0.7777777777777778,
              "#fb9f3a"
             ],
             [
              0.8888888888888888,
              "#fdca26"
             ],
             [
              1,
              "#f0f921"
             ]
            ],
            "type": "contour"
           }
          ],
          "contourcarpet": [
           {
            "colorbar": {
             "outlinewidth": 0,
             "ticks": ""
            },
            "type": "contourcarpet"
           }
          ],
          "heatmap": [
           {
            "colorbar": {
             "outlinewidth": 0,
             "ticks": ""
            },
            "colorscale": [
             [
              0,
              "#0d0887"
             ],
             [
              0.1111111111111111,
              "#46039f"
             ],
             [
              0.2222222222222222,
              "#7201a8"
             ],
             [
              0.3333333333333333,
              "#9c179e"
             ],
             [
              0.4444444444444444,
              "#bd3786"
             ],
             [
              0.5555555555555556,
              "#d8576b"
             ],
             [
              0.6666666666666666,
              "#ed7953"
             ],
             [
              0.7777777777777778,
              "#fb9f3a"
             ],
             [
              0.8888888888888888,
              "#fdca26"
             ],
             [
              1,
              "#f0f921"
             ]
            ],
            "type": "heatmap"
           }
          ],
          "heatmapgl": [
           {
            "colorbar": {
             "outlinewidth": 0,
             "ticks": ""
            },
            "colorscale": [
             [
              0,
              "#0d0887"
             ],
             [
              0.1111111111111111,
              "#46039f"
             ],
             [
              0.2222222222222222,
              "#7201a8"
             ],
             [
              0.3333333333333333,
              "#9c179e"
             ],
             [
              0.4444444444444444,
              "#bd3786"
             ],
             [
              0.5555555555555556,
              "#d8576b"
             ],
             [
              0.6666666666666666,
              "#ed7953"
             ],
             [
              0.7777777777777778,
              "#fb9f3a"
             ],
             [
              0.8888888888888888,
              "#fdca26"
             ],
             [
              1,
              "#f0f921"
             ]
            ],
            "type": "heatmapgl"
           }
          ],
          "histogram": [
           {
            "marker": {
             "pattern": {
              "fillmode": "overlay",
              "size": 10,
              "solidity": 0.2
             }
            },
            "type": "histogram"
           }
          ],
          "histogram2d": [
           {
            "colorbar": {
             "outlinewidth": 0,
             "ticks": ""
            },
            "colorscale": [
             [
              0,
              "#0d0887"
             ],
             [
              0.1111111111111111,
              "#46039f"
             ],
             [
              0.2222222222222222,
              "#7201a8"
             ],
             [
              0.3333333333333333,
              "#9c179e"
             ],
             [
              0.4444444444444444,
              "#bd3786"
             ],
             [
              0.5555555555555556,
              "#d8576b"
             ],
             [
              0.6666666666666666,
              "#ed7953"
             ],
             [
              0.7777777777777778,
              "#fb9f3a"
             ],
             [
              0.8888888888888888,
              "#fdca26"
             ],
             [
              1,
              "#f0f921"
             ]
            ],
            "type": "histogram2d"
           }
          ],
          "histogram2dcontour": [
           {
            "colorbar": {
             "outlinewidth": 0,
             "ticks": ""
            },
            "colorscale": [
             [
              0,
              "#0d0887"
             ],
             [
              0.1111111111111111,
              "#46039f"
             ],
             [
              0.2222222222222222,
              "#7201a8"
             ],
             [
              0.3333333333333333,
              "#9c179e"
             ],
             [
              0.4444444444444444,
              "#bd3786"
             ],
             [
              0.5555555555555556,
              "#d8576b"
             ],
             [
              0.6666666666666666,
              "#ed7953"
             ],
             [
              0.7777777777777778,
              "#fb9f3a"
             ],
             [
              0.8888888888888888,
              "#fdca26"
             ],
             [
              1,
              "#f0f921"
             ]
            ],
            "type": "histogram2dcontour"
           }
          ],
          "mesh3d": [
           {
            "colorbar": {
             "outlinewidth": 0,
             "ticks": ""
            },
            "type": "mesh3d"
           }
          ],
          "parcoords": [
           {
            "line": {
             "colorbar": {
              "outlinewidth": 0,
              "ticks": ""
             }
            },
            "type": "parcoords"
           }
          ],
          "pie": [
           {
            "automargin": true,
            "type": "pie"
           }
          ],
          "scatter": [
           {
            "marker": {
             "colorbar": {
              "outlinewidth": 0,
              "ticks": ""
             }
            },
            "type": "scatter"
           }
          ],
          "scatter3d": [
           {
            "line": {
             "colorbar": {
              "outlinewidth": 0,
              "ticks": ""
             }
            },
            "marker": {
             "colorbar": {
              "outlinewidth": 0,
              "ticks": ""
             }
            },
            "type": "scatter3d"
           }
          ],
          "scattercarpet": [
           {
            "marker": {
             "colorbar": {
              "outlinewidth": 0,
              "ticks": ""
             }
            },
            "type": "scattercarpet"
           }
          ],
          "scattergeo": [
           {
            "marker": {
             "colorbar": {
              "outlinewidth": 0,
              "ticks": ""
             }
            },
            "type": "scattergeo"
           }
          ],
          "scattergl": [
           {
            "marker": {
             "colorbar": {
              "outlinewidth": 0,
              "ticks": ""
             }
            },
            "type": "scattergl"
           }
          ],
          "scattermapbox": [
           {
            "marker": {
             "colorbar": {
              "outlinewidth": 0,
              "ticks": ""
             }
            },
            "type": "scattermapbox"
           }
          ],
          "scatterpolar": [
           {
            "marker": {
             "colorbar": {
              "outlinewidth": 0,
              "ticks": ""
             }
            },
            "type": "scatterpolar"
           }
          ],
          "scatterpolargl": [
           {
            "marker": {
             "colorbar": {
              "outlinewidth": 0,
              "ticks": ""
             }
            },
            "type": "scatterpolargl"
           }
          ],
          "scatterternary": [
           {
            "marker": {
             "colorbar": {
              "outlinewidth": 0,
              "ticks": ""
             }
            },
            "type": "scatterternary"
           }
          ],
          "surface": [
           {
            "colorbar": {
             "outlinewidth": 0,
             "ticks": ""
            },
            "colorscale": [
             [
              0,
              "#0d0887"
             ],
             [
              0.1111111111111111,
              "#46039f"
             ],
             [
              0.2222222222222222,
              "#7201a8"
             ],
             [
              0.3333333333333333,
              "#9c179e"
             ],
             [
              0.4444444444444444,
              "#bd3786"
             ],
             [
              0.5555555555555556,
              "#d8576b"
             ],
             [
              0.6666666666666666,
              "#ed7953"
             ],
             [
              0.7777777777777778,
              "#fb9f3a"
             ],
             [
              0.8888888888888888,
              "#fdca26"
             ],
             [
              1,
              "#f0f921"
             ]
            ],
            "type": "surface"
           }
          ],
          "table": [
           {
            "cells": {
             "fill": {
              "color": "#EBF0F8"
             },
             "line": {
              "color": "white"
             }
            },
            "header": {
             "fill": {
              "color": "#C8D4E3"
             },
             "line": {
              "color": "white"
             }
            },
            "type": "table"
           }
          ]
         },
         "layout": {
          "annotationdefaults": {
           "arrowcolor": "#2a3f5f",
           "arrowhead": 0,
           "arrowwidth": 1
          },
          "autotypenumbers": "strict",
          "coloraxis": {
           "colorbar": {
            "outlinewidth": 0,
            "ticks": ""
           }
          },
          "colorscale": {
           "diverging": [
            [
             0,
             "#8e0152"
            ],
            [
             0.1,
             "#c51b7d"
            ],
            [
             0.2,
             "#de77ae"
            ],
            [
             0.3,
             "#f1b6da"
            ],
            [
             0.4,
             "#fde0ef"
            ],
            [
             0.5,
             "#f7f7f7"
            ],
            [
             0.6,
             "#e6f5d0"
            ],
            [
             0.7,
             "#b8e186"
            ],
            [
             0.8,
             "#7fbc41"
            ],
            [
             0.9,
             "#4d9221"
            ],
            [
             1,
             "#276419"
            ]
           ],
           "sequential": [
            [
             0,
             "#0d0887"
            ],
            [
             0.1111111111111111,
             "#46039f"
            ],
            [
             0.2222222222222222,
             "#7201a8"
            ],
            [
             0.3333333333333333,
             "#9c179e"
            ],
            [
             0.4444444444444444,
             "#bd3786"
            ],
            [
             0.5555555555555556,
             "#d8576b"
            ],
            [
             0.6666666666666666,
             "#ed7953"
            ],
            [
             0.7777777777777778,
             "#fb9f3a"
            ],
            [
             0.8888888888888888,
             "#fdca26"
            ],
            [
             1,
             "#f0f921"
            ]
           ],
           "sequentialminus": [
            [
             0,
             "#0d0887"
            ],
            [
             0.1111111111111111,
             "#46039f"
            ],
            [
             0.2222222222222222,
             "#7201a8"
            ],
            [
             0.3333333333333333,
             "#9c179e"
            ],
            [
             0.4444444444444444,
             "#bd3786"
            ],
            [
             0.5555555555555556,
             "#d8576b"
            ],
            [
             0.6666666666666666,
             "#ed7953"
            ],
            [
             0.7777777777777778,
             "#fb9f3a"
            ],
            [
             0.8888888888888888,
             "#fdca26"
            ],
            [
             1,
             "#f0f921"
            ]
           ]
          },
          "colorway": [
           "#636efa",
           "#EF553B",
           "#00cc96",
           "#ab63fa",
           "#FFA15A",
           "#19d3f3",
           "#FF6692",
           "#B6E880",
           "#FF97FF",
           "#FECB52"
          ],
          "font": {
           "color": "#2a3f5f"
          },
          "geo": {
           "bgcolor": "white",
           "lakecolor": "white",
           "landcolor": "#E5ECF6",
           "showlakes": true,
           "showland": true,
           "subunitcolor": "white"
          },
          "hoverlabel": {
           "align": "left"
          },
          "hovermode": "closest",
          "mapbox": {
           "style": "light"
          },
          "paper_bgcolor": "white",
          "plot_bgcolor": "#E5ECF6",
          "polar": {
           "angularaxis": {
            "gridcolor": "white",
            "linecolor": "white",
            "ticks": ""
           },
           "bgcolor": "#E5ECF6",
           "radialaxis": {
            "gridcolor": "white",
            "linecolor": "white",
            "ticks": ""
           }
          },
          "scene": {
           "xaxis": {
            "backgroundcolor": "#E5ECF6",
            "gridcolor": "white",
            "gridwidth": 2,
            "linecolor": "white",
            "showbackground": true,
            "ticks": "",
            "zerolinecolor": "white"
           },
           "yaxis": {
            "backgroundcolor": "#E5ECF6",
            "gridcolor": "white",
            "gridwidth": 2,
            "linecolor": "white",
            "showbackground": true,
            "ticks": "",
            "zerolinecolor": "white"
           },
           "zaxis": {
            "backgroundcolor": "#E5ECF6",
            "gridcolor": "white",
            "gridwidth": 2,
            "linecolor": "white",
            "showbackground": true,
            "ticks": "",
            "zerolinecolor": "white"
           }
          },
          "shapedefaults": {
           "line": {
            "color": "#2a3f5f"
           }
          },
          "ternary": {
           "aaxis": {
            "gridcolor": "white",
            "linecolor": "white",
            "ticks": ""
           },
           "baxis": {
            "gridcolor": "white",
            "linecolor": "white",
            "ticks": ""
           },
           "bgcolor": "#E5ECF6",
           "caxis": {
            "gridcolor": "white",
            "linecolor": "white",
            "ticks": ""
           }
          },
          "title": {
           "x": 0.05
          },
          "xaxis": {
           "automargin": true,
           "gridcolor": "white",
           "linecolor": "white",
           "ticks": "",
           "title": {
            "standoff": 15
           },
           "zerolinecolor": "white",
           "zerolinewidth": 2
          },
          "yaxis": {
           "automargin": true,
           "gridcolor": "white",
           "linecolor": "white",
           "ticks": "",
           "title": {
            "standoff": 15
           },
           "zerolinecolor": "white",
           "zerolinewidth": 2
          }
         }
        },
        "title": {
         "text": "Vegetable(s) Products vs Outcomes"
        },
        "width": 1500
       }
      }
     },
     "metadata": {},
     "output_type": "display_data"
    },
    {
     "data": {
      "text/plain": [
       "'../reports/figures/brands_vs_outcomes_veg.html'"
      ]
     },
     "execution_count": 231,
     "metadata": {},
     "output_type": "execute_result"
    }
   ],
   "source": [
    "# Veg product vs Outcomes\n",
    "\n",
    "data = []\n",
    "\n",
    "relv_outcomes = [\"Death\",\"Life Threatening\",\"Hospitalization\",\"Disability\",\"Patient Visited ER\"]\n",
    "\n",
    "for i,outcome in enumerate(relv_outcomes):\n",
    "    \n",
    "    top_brands = list(veg_g.iloc[veg_g.index.get_level_values('outcomes')==outcome].reset_index()[:5]['brand'])\n",
    "    brand_count = list(veg_g.iloc[veg_g.index.get_level_values('outcomes')==outcome].reset_index()[:5]['report_id'])\n",
    "\n",
    "    data.append(go.Bar(name=outcome, x = top_brands,y = brand_count))\n",
    "\n",
    "fig = go.Figure(data=data)\n",
    "\n",
    "fig.layout.update(title=\"Vegetable(s) Products vs Outcomes\", height = 500, width = 1500,barmode = \"stack\")\n",
    "fig.show()\n",
    "plot(fig, filename =\"../reports/figures/brands_vs_outcomes_veg.html\")\n",
    "\n",
    "\n"
   ]
  },
  {
   "cell_type": "code",
   "execution_count": 38,
   "metadata": {},
   "outputs": [
    {
     "ename": "NameError",
     "evalue": "name 'px' is not defined",
     "output_type": "error",
     "traceback": [
      "\u001b[1;31m---------------------------------------------------------------------------\u001b[0m",
      "\u001b[1;31mNameError\u001b[0m                                 Traceback (most recent call last)",
      "\u001b[1;32m~\\AppData\\Local\\Temp/ipykernel_11828/3279052724.py\u001b[0m in \u001b[0;36m<module>\u001b[1;34m\u001b[0m\n\u001b[1;32m----> 1\u001b[1;33m \u001b[0mpx\u001b[0m\u001b[1;33m.\u001b[0m\u001b[0mhistogram\u001b[0m\u001b[1;33m(\u001b[0m\u001b[1;33m)\u001b[0m\u001b[1;33m\u001b[0m\u001b[1;33m\u001b[0m\u001b[0m\n\u001b[0m",
      "\u001b[1;31mNameError\u001b[0m: name 'px' is not defined"
     ]
    }
   ],
   "source": [
    "px.histogram()"
   ]
  },
  {
   "cell_type": "code",
   "execution_count": 42,
   "metadata": {},
   "outputs": [
    {
     "data": {
      "text/html": [
       "<div>\n",
       "<style scoped>\n",
       "    .dataframe tbody tr th:only-of-type {\n",
       "        vertical-align: middle;\n",
       "    }\n",
       "\n",
       "    .dataframe tbody tr th {\n",
       "        vertical-align: top;\n",
       "    }\n",
       "\n",
       "    .dataframe thead th {\n",
       "        text-align: right;\n",
       "    }\n",
       "</style>\n",
       "<table border=\"1\" class=\"dataframe\">\n",
       "  <thead>\n",
       "    <tr style=\"text-align: right;\">\n",
       "      <th></th>\n",
       "      <th></th>\n",
       "      <th>match_sort</th>\n",
       "    </tr>\n",
       "    <tr>\n",
       "      <th>brand_sort</th>\n",
       "      <th>score_sort</th>\n",
       "      <th></th>\n",
       "    </tr>\n",
       "  </thead>\n",
       "  <tbody>\n",
       "    <tr>\n",
       "      <th>MONAT REVIVE SHAMPOO</th>\n",
       "      <th>100</th>\n",
       "      <td>Monat Revive Shampoo</td>\n",
       "    </tr>\n",
       "    <tr>\n",
       "      <th>JACLYN HILL COSMETICS SO RICH LIPSTICK - ISLA</th>\n",
       "      <th>100</th>\n",
       "      <td>JACLYN HILL COSMETICS SO RICH LIPSTICK ISLA</td>\n",
       "    </tr>\n",
       "    <tr>\n",
       "      <th>DEVACURL NO POO ORIGINAL</th>\n",
       "      <th>98</th>\n",
       "      <td>DEVACURL NO POO ORIGINIAL</td>\n",
       "    </tr>\n",
       "    <tr>\n",
       "      <th>PANTENE SHAMPOO</th>\n",
       "      <th>97</th>\n",
       "      <td>PANTENE SHAMPOOS</td>\n",
       "    </tr>\n",
       "    <tr>\n",
       "      <th>PREMIER PIGMENTS TRUE COLOR CHAMPAGNE TATTOO</th>\n",
       "      <th>96</th>\n",
       "      <td>PREMIER PIGMENTS TRUE COLORS LT. CHAMPAGNE TATTOO</td>\n",
       "    </tr>\n",
       "    <tr>\n",
       "      <th>WEN CLEANSING CONDITIONER POMEGRANATE</th>\n",
       "      <th>95</th>\n",
       "      <td>WEN POMAGRANETE CLEANSING CONDITIONER</td>\n",
       "    </tr>\n",
       "    <tr>\n",
       "      <th>DEVACURL LOO POO DELIGHT SHAMPOO</th>\n",
       "      <th>95</th>\n",
       "      <td>DEVACURL LOWPOO DELIGHT SHAMPOO</td>\n",
       "    </tr>\n",
       "    <tr>\n",
       "      <th>DEVACURL DECADACE CONDITIONER</th>\n",
       "      <th>95</th>\n",
       "      <td>DEVACURL DECADENCE CONDITIONER</td>\n",
       "    </tr>\n",
       "    <tr>\n",
       "      <th>DEVACURL NO POO ORIGINAL</th>\n",
       "      <th>94</th>\n",
       "      <td>DEVACURL ORIGINAL LOW POO</td>\n",
       "    </tr>\n",
       "    <tr>\n",
       "      <th>BLACK N' SASSY SILKY SMOOTH ALCOHOL FREE OIL SHEEN SPRAY</th>\n",
       "      <th>93</th>\n",
       "      <td>BLACKN' SASSY SILKY SMOOTH ALCOHOL FREE SHEEN ...</td>\n",
       "    </tr>\n",
       "    <tr>\n",
       "      <th>OLAY FEMALE FACE CONDITIONER TREATMENT REGENERIST MICRO SCULPTING CREA</th>\n",
       "      <th>93</th>\n",
       "      <td>OLAY FEMALE FACE CONDITIONER TREATMENT REGENER...</td>\n",
       "    </tr>\n",
       "    <tr>\n",
       "      <th>MORPHE JAMES CHARLS</th>\n",
       "      <th>93</th>\n",
       "      <td>MORPHE X JAMES CHARLES</td>\n",
       "    </tr>\n",
       "    <tr>\n",
       "      <th>WEN CLEANSING CONDITIONER FIG</th>\n",
       "      <th>92</th>\n",
       "      <td>WEN HAIR CLEANSING CONDITIONER, WEN CLEANSING ...</td>\n",
       "    </tr>\n",
       "    <tr>\n",
       "      <th>DEVACURL NO POO ORIGINIAL</th>\n",
       "      <th>92</th>\n",
       "      <td>DEVACURL ORIGINAL LOW POO</td>\n",
       "    </tr>\n",
       "    <tr>\n",
       "      <th>WEN CONDITIONER AND SHAMPOO</th>\n",
       "      <th>92</th>\n",
       "      <td>WEN CONDITIONER SHAMPOO</td>\n",
       "    </tr>\n",
       "    <tr>\n",
       "      <th>Sweet Almond Mint Cleansing Conditioner</th>\n",
       "      <th>92</th>\n",
       "      <td>WEN ALMOND MINT CLEANSING CONDITION</td>\n",
       "    </tr>\n",
       "    <tr>\n",
       "      <th>WEN CONDITIONING SHAMPOO</th>\n",
       "      <th>92</th>\n",
       "      <td>WEN SHAMPOO AND CONDITIONING</td>\n",
       "    </tr>\n",
       "    <tr>\n",
       "      <th>WEN HAIR CARE CLEANSING CONDITIONER</th>\n",
       "      <th>92</th>\n",
       "      <td>WEN HAIR CLEANSING CONDITIONER</td>\n",
       "    </tr>\n",
       "    <tr>\n",
       "      <th>Sweet Almond Mint Cleansing Conditioner</th>\n",
       "      <th>91</th>\n",
       "      <td>WEN SWEET ALMOND MINT CLEANSING CONDITIONER KIT</td>\n",
       "    </tr>\n",
       "    <tr>\n",
       "      <th>WEN CONDITIONING SHAMPOO</th>\n",
       "      <th>91</th>\n",
       "      <td>WEN HAIR CONDITIONING SHAMPOO</td>\n",
       "    </tr>\n",
       "  </tbody>\n",
       "</table>\n",
       "</div>"
      ],
      "text/plain": [
       "                                                                                                      match_sort\n",
       "brand_sort                                         score_sort                                                   \n",
       "MONAT REVIVE SHAMPOO                               100                                      Monat Revive Shampoo\n",
       "JACLYN HILL COSMETICS SO RICH LIPSTICK - ISLA      100               JACLYN HILL COSMETICS SO RICH LIPSTICK ISLA\n",
       "DEVACURL NO POO ORIGINAL                           98                                  DEVACURL NO POO ORIGINIAL\n",
       "PANTENE SHAMPOO                                    97                                           PANTENE SHAMPOOS\n",
       "PREMIER PIGMENTS TRUE COLOR CHAMPAGNE TATTOO       96          PREMIER PIGMENTS TRUE COLORS LT. CHAMPAGNE TATTOO\n",
       "WEN CLEANSING CONDITIONER POMEGRANATE              95                      WEN POMAGRANETE CLEANSING CONDITIONER\n",
       "DEVACURL LOO POO DELIGHT SHAMPOO                   95                            DEVACURL LOWPOO DELIGHT SHAMPOO\n",
       "DEVACURL DECADACE CONDITIONER                      95                             DEVACURL DECADENCE CONDITIONER\n",
       "DEVACURL NO POO ORIGINAL                           94                                  DEVACURL ORIGINAL LOW POO\n",
       "BLACK N' SASSY SILKY SMOOTH ALCOHOL FREE OIL SH... 93          BLACKN' SASSY SILKY SMOOTH ALCOHOL FREE SHEEN ...\n",
       "OLAY FEMALE FACE CONDITIONER TREATMENT REGENERI... 93          OLAY FEMALE FACE CONDITIONER TREATMENT REGENER...\n",
       "MORPHE JAMES CHARLS                                93                                     MORPHE X JAMES CHARLES\n",
       "WEN CLEANSING CONDITIONER FIG                      92          WEN HAIR CLEANSING CONDITIONER, WEN CLEANSING ...\n",
       "DEVACURL NO POO ORIGINIAL                          92                                  DEVACURL ORIGINAL LOW POO\n",
       "WEN CONDITIONER AND SHAMPOO                        92                                    WEN CONDITIONER SHAMPOO\n",
       "Sweet Almond Mint Cleansing Conditioner            92                        WEN ALMOND MINT CLEANSING CONDITION\n",
       "WEN CONDITIONING SHAMPOO                           92                               WEN SHAMPOO AND CONDITIONING\n",
       "WEN HAIR CARE CLEANSING CONDITIONER                92                             WEN HAIR CLEANSING CONDITIONER\n",
       "Sweet Almond Mint Cleansing Conditioner            91            WEN SWEET ALMOND MINT CLEANSING CONDITIONER KIT\n",
       "WEN CONDITIONING SHAMPOO                           91                              WEN HAIR CONDITIONING SHAMPOO"
      ]
     },
     "execution_count": 42,
     "metadata": {},
     "output_type": "execute_result"
    }
   ],
   "source": [
    "from fuzzywuzzy import fuzz\n",
    "from fuzzywuzzy import process\n",
    "import numpy as np\n",
    "\n",
    "unique_brand=list(set(cosm_df['product'].values))[:1000]\n",
    "\n",
    "score_sort = [(x,) + i\n",
    "             for x in unique_brand \n",
    "             for i in process.extract(x, unique_brand, scorer=fuzz.token_sort_ratio)]\n",
    "similarity_sort = pd.DataFrame(score_sort, columns=['brand_sort','match_sort','score_sort'])\n",
    "\n",
    "similarity_sort['sorted_brand_sort'] = np.minimum(similarity_sort['brand_sort'], similarity_sort['match_sort'])\n",
    "\n",
    "high_score_sort = similarity_sort[(similarity_sort['score_sort'] >= 80) &\n",
    "                (similarity_sort['brand_sort'] !=  similarity_sort['match_sort']) &\n",
    "                (similarity_sort['sorted_brand_sort'] != similarity_sort['match_sort'])]\n",
    "high_score_sort = high_score_sort.drop('sorted_brand_sort',axis=1).copy()\n",
    "\n",
    "high_score_sort.groupby(['brand_sort','score_sort']).agg(\n",
    "                        {'match_sort': ', '.join}).sort_values(\n",
    "                        ['score_sort'], ascending=False)[:20]"
   ]
  },
  {
   "cell_type": "code",
   "execution_count": 31,
   "metadata": {},
   "outputs": [
    {
     "data": {
      "text/plain": [
       "description\n",
       "Cosmetics                                       17094\n",
       "Vit/Min/Prot/Unconv Diet(Human/Animal)           1347\n",
       "Dietary Conventional Foods/Meal Replacements      221\n",
       "Baby Food Products                                 72\n",
       "Fishery/Seafood Prod                               46\n",
       "Soft Drink/Water                                   42\n",
       "Bakery Prod/Dough/Mix/Icing                        38\n",
       "Fruit/Fruit Prod                                   31\n",
       "Nuts/Edible Seed                                   26\n",
       "Vegetables/Vegetable Products                      25\n",
       "Coffee/Tea                                         17\n",
       "Cereal Prep/Breakfast Food                         16\n",
       "Milk/Butter/Dried Milk Prod                        16\n",
       "Snack Food Item                                    15\n",
       "Whole Grain/Milled Grain Prod/Starch               15\n",
       "Mult Food Dinner/Grav/Sauce/Special                12\n",
       "Cheese/Cheese Prod                                  9\n",
       "Choc/Cocoa Prod                                     8\n",
       "Spices, Flavors And Salts                           6\n",
       "Medical Foods, N.E.C.                               6\n",
       "Candy W/O Choc/Special/Chew Gum                     5\n",
       "Gelatin/Rennet/Pudding Mix/Pie Filling              4\n",
       "G Medical Foods, N.E.C.                             4\n",
       "Soup                                                4\n",
       "Ice Cream Prod                                      3\n",
       "Dressing/Condiment                                  3\n",
       "Vegetable Oils                                      2\n",
       "Food Additives (Human Use)                          2\n",
       "Powder Formula                                      2\n",
       "Meat, Meat Products and Poultry                     2\n",
       "Macaroni/Noodle Prod                                2\n",
       "Egg/Egg Prod                                        2\n",
       "Filled Milk/Imit Milk Prod                          2\n",
       "Prep Salad Prod                                     1\n",
       "Food Sweeteners (Nutritive)                         1\n",
       "Vegetable Protein Prod                              1\n",
       "Beverage Bases/Conc/Nectar                          1\n",
       "Color Additiv Food/Drug/Cosmetic                    1\n",
       "Name: report_id, dtype: int64"
      ]
     },
     "execution_count": 31,
     "metadata": {},
     "output_type": "execute_result"
    }
   ],
   "source": [
    "# Exemption 4 split description-wise\n",
    "aggReports[aggReports['product']==\"EXEMPTION 4\"].groupby(\"description\")['report_id'].count().sort_values(ascending=False)"
   ]
  },
  {
   "cell_type": "code",
   "execution_count": 18,
   "metadata": {},
   "outputs": [
    {
     "data": {
      "text/plain": [
       "outcomes                             product                                    \n",
       "                                     WEN CLEANSING CONDITIONER                      258\n",
       "Medically Important                  WEN CLEANSING CONDITIONER                      211\n",
       "Other Outcome                        WEN CLEANSING CONDITIONER                      152\n",
       "                                     WEN                                            108\n",
       "Medically Important                  WEN                                             94\n",
       "Patient Visited Healthcare Provider  WEN CLEANSING CONDITIONER                       78\n",
       "Other Outcome                        MONAT RENEW SHAMPOO                             72\n",
       "                                     WEN                                             52\n",
       "                                     MONAT RENEW SHAMPOO                             50\n",
       "                                     WEN SWEET ALMOND MINT CLEANSING CONDITIONER     50\n",
       "Patient Visited Healthcare Provider  WEN                                             41\n",
       "                                     WEN SWEET ALMOND MINT                           40\n",
       "Other Outcome                        DEVACURL ONE CONDITION                          39\n",
       "                                     WEN SHAMPOO                                     39\n",
       "                                     EOS LIP BALM                                    38\n",
       "Other Outcome                        MONAT                                           37\n",
       "                                     DEVACURL ULTRA DEFINING GEL                     36\n",
       "Medically Important                  WEN SWEET ALMOND MINT                           35\n",
       "Other Outcome                        DEVACURL NO POO                                 33\n",
       "                                     WEN SWEET ALMOND MINT CLEANSING CONDITIONER     33\n",
       "Name: report_id, dtype: int64"
      ]
     },
     "execution_count": 18,
     "metadata": {},
     "output_type": "execute_result"
    }
   ],
   "source": [
    "# Cosmetics Detailed EDA\n",
    "# Can Cosmetics actually kill you?\n",
    "\n",
    "expl_aggReports[(expl_aggReports['description']==\"Cosmetics\")& (expl_aggReports['product']!=\"EXEMPTION 4\")  ].groupby([\"outcomes\",\"product\"])[\"report_id\"].count().sort_values(ascending=False)[:20]\n",
    "\n",
    "# All: D: 4931 H: 1083\n",
    "# E4: D: 4907   H : 773\n",
    "# WEN: D:0 H: 0\n"
   ]
  },
  {
   "cell_type": "code",
   "execution_count": 26,
   "metadata": {},
   "outputs": [
    {
     "data": {
      "text/plain": [
       "outcomes  product                                                  \n",
       "Death     KRATOM                                                       124\n",
       "          5-HOUR ENERGY                                                 12\n",
       "          BENEFIBER WITH WHEAT DEXTRIN (NCH) (WHEAT DEXTRIN) POWDER     11\n",
       "          5 HOUR ENERGY                                                 11\n",
       "          CENTRUM                                                        9\n",
       "                                                                      ... \n",
       "          DUAL ACTION CLEANSE TOTAL BODY PURIFIER                        1\n",
       "          DUAL-ACTION CLEANSE COLON CLEAR FORMULA                        1\n",
       "          EAS BETAGEN POWDER (EAS CREATINE POWDER)                       1\n",
       "          EAS CREATINE                                                   1\n",
       "          EDENS ETHNOS KRATOM                                            1\n",
       "Name: report_id, Length: 773, dtype: int64"
      ]
     },
     "execution_count": 26,
     "metadata": {},
     "output_type": "execute_result"
    }
   ],
   "source": [
    "# Vitamin\n",
    "\n",
    "g=expl_aggReports[(expl_aggReports['description']==\"Vit/Min/Prot/Unconv Diet(Human/Animal)\") & (expl_aggReports['product']!=\"EXEMPTION 4\")].groupby([\"outcomes\",\"product\"])[\"report_id\"].count().sort_values(ascending=False)\n",
    "\n",
    "g.iloc[g.index.get_level_values('outcomes')==\"Death\"]\n",
    "\n",
    "# All: D: 1165 LT: 4905 H: 18365\n",
    "# Beta: D: 2  H: 336 (Max)\n",
    "# KRATOM: D: 124 (Max) H:  43"
   ]
  },
  {
   "cell_type": "code",
   "execution_count": 6,
   "metadata": {},
   "outputs": [],
   "source": []
  },
  {
   "cell_type": "code",
   "execution_count": 27,
   "metadata": {},
   "outputs": [
    {
     "ename": "KeyError",
     "evalue": "'Requested level (outcomes) does not match index name (None)'",
     "output_type": "error",
     "traceback": [
      "\u001b[1;31m---------------------------------------------------------------------------\u001b[0m",
      "\u001b[1;31mKeyError\u001b[0m                                  Traceback (most recent call last)",
      "\u001b[1;32m~\\AppData\\Local\\Temp/ipykernel_14620/1569935943.py\u001b[0m in \u001b[0;36m<module>\u001b[1;34m\u001b[0m\n\u001b[0;32m      6\u001b[0m \u001b[0mg\u001b[0m\u001b[1;33m=\u001b[0m\u001b[0mexpl_aggReports\u001b[0m\u001b[1;33m[\u001b[0m\u001b[0mexpl_aggReports\u001b[0m\u001b[1;33m[\u001b[0m\u001b[1;34m'description'\u001b[0m\u001b[1;33m]\u001b[0m\u001b[1;33m.\u001b[0m\u001b[0misin\u001b[0m\u001b[1;33m(\u001b[0m\u001b[0mtop_10\u001b[0m\u001b[1;33m)\u001b[0m\u001b[1;33m]\u001b[0m\u001b[1;33m\u001b[0m\u001b[1;33m\u001b[0m\u001b[0m\n\u001b[0;32m      7\u001b[0m \u001b[0msns\u001b[0m\u001b[1;33m.\u001b[0m\u001b[0mset_theme\u001b[0m\u001b[1;33m(\u001b[0m\u001b[1;33m)\u001b[0m\u001b[1;33m\u001b[0m\u001b[1;33m\u001b[0m\u001b[0m\n\u001b[1;32m----> 8\u001b[1;33m \u001b[0mg\u001b[0m\u001b[1;33m.\u001b[0m\u001b[0miloc\u001b[0m\u001b[1;33m[\u001b[0m\u001b[0mg\u001b[0m\u001b[1;33m.\u001b[0m\u001b[0mindex\u001b[0m\u001b[1;33m.\u001b[0m\u001b[0mget_level_values\u001b[0m\u001b[1;33m(\u001b[0m\u001b[1;34m'outcomes'\u001b[0m\u001b[1;33m)\u001b[0m\u001b[1;33m==\u001b[0m\u001b[1;34m\"Death\"\u001b[0m\u001b[1;33m]\u001b[0m\u001b[1;33m\u001b[0m\u001b[1;33m\u001b[0m\u001b[0m\n\u001b[0m\u001b[0;32m      9\u001b[0m \u001b[1;33m\u001b[0m\u001b[0m\n\u001b[0;32m     10\u001b[0m \u001b[0mplt\u001b[0m\u001b[1;33m.\u001b[0m\u001b[0mfigure\u001b[0m\u001b[1;33m(\u001b[0m\u001b[0mfigsize\u001b[0m\u001b[1;33m=\u001b[0m\u001b[1;33m(\u001b[0m\u001b[1;36m10\u001b[0m\u001b[1;33m,\u001b[0m\u001b[1;36m10\u001b[0m\u001b[1;33m)\u001b[0m\u001b[1;33m)\u001b[0m\u001b[1;33m\u001b[0m\u001b[1;33m\u001b[0m\u001b[0m\n",
      "\u001b[1;32m~\\Anaconda3\\envs\\ece143\\lib\\site-packages\\pandas\\core\\indexes\\base.py\u001b[0m in \u001b[0;36m_get_level_values\u001b[1;34m(self, level)\u001b[0m\n\u001b[0;32m   1805\u001b[0m         \u001b[0mIndex\u001b[0m\u001b[1;33m(\u001b[0m\u001b[1;33m[\u001b[0m\u001b[1;34m'a'\u001b[0m\u001b[1;33m,\u001b[0m \u001b[1;34m'b'\u001b[0m\u001b[1;33m,\u001b[0m \u001b[1;34m'c'\u001b[0m\u001b[1;33m]\u001b[0m\u001b[1;33m,\u001b[0m \u001b[0mdtype\u001b[0m\u001b[1;33m=\u001b[0m\u001b[1;34m'object'\u001b[0m\u001b[1;33m)\u001b[0m\u001b[1;33m\u001b[0m\u001b[1;33m\u001b[0m\u001b[0m\n\u001b[0;32m   1806\u001b[0m         \"\"\"\n\u001b[1;32m-> 1807\u001b[1;33m         \u001b[0mself\u001b[0m\u001b[1;33m.\u001b[0m\u001b[0m_validate_index_level\u001b[0m\u001b[1;33m(\u001b[0m\u001b[0mlevel\u001b[0m\u001b[1;33m)\u001b[0m\u001b[1;33m\u001b[0m\u001b[1;33m\u001b[0m\u001b[0m\n\u001b[0m\u001b[0;32m   1808\u001b[0m         \u001b[1;32mreturn\u001b[0m \u001b[0mself\u001b[0m\u001b[1;33m\u001b[0m\u001b[1;33m\u001b[0m\u001b[0m\n\u001b[0;32m   1809\u001b[0m \u001b[1;33m\u001b[0m\u001b[0m\n",
      "\u001b[1;32m~\\Anaconda3\\envs\\ece143\\lib\\site-packages\\pandas\\core\\indexes\\base.py\u001b[0m in \u001b[0;36m_validate_index_level\u001b[1;34m(self, level)\u001b[0m\n\u001b[0;32m   1728\u001b[0m                 )\n\u001b[0;32m   1729\u001b[0m         \u001b[1;32melif\u001b[0m \u001b[0mlevel\u001b[0m \u001b[1;33m!=\u001b[0m \u001b[0mself\u001b[0m\u001b[1;33m.\u001b[0m\u001b[0mname\u001b[0m\u001b[1;33m:\u001b[0m\u001b[1;33m\u001b[0m\u001b[1;33m\u001b[0m\u001b[0m\n\u001b[1;32m-> 1730\u001b[1;33m             raise KeyError(\n\u001b[0m\u001b[0;32m   1731\u001b[0m                 \u001b[1;34mf\"Requested level ({level}) does not match index name ({self.name})\"\u001b[0m\u001b[1;33m\u001b[0m\u001b[1;33m\u001b[0m\u001b[0m\n\u001b[0;32m   1732\u001b[0m             )\n",
      "\u001b[1;31mKeyError\u001b[0m: 'Requested level (outcomes) does not match index name (None)'"
     ]
    }
   ],
   "source": [
    "# description: broad category; group on product vs outcome\n",
    "\n",
    "top_10=list(aggReports.groupby('description')['report_id'].count().sort_values(ascending=False).index[:10])\n",
    "\n",
    "g=expl_aggReports.groupby(['description','outcomes'])['report_id'].count().sort_values(ascending=False)\n",
    "g=expl_aggReports[expl_aggReports['description'].isin(top_10)]\n",
    "sns.set_theme()\n",
    "g.iloc[g.index.get_level_values('outcomes')==\"Death\"]\n",
    "\n",
    "plt.figure(figsize=(10,10))\n",
    "ax=sns.displot(expl_aggReports,x=\"outcomes\",hue=\"description\")\n",
    "ax.set_xticklabels(rotation=90)\n"
   ]
  },
  {
   "cell_type": "code",
   "execution_count": 35,
   "metadata": {},
   "outputs": [
    {
     "data": {
      "text/plain": [
       "outcomes\n",
       "Other Outcome                          2417\n",
       "                                        607\n",
       "Patient Visited Healthcare Provider     438\n",
       "Patient Visited ER                      351\n",
       "Medically Important                     213\n",
       "Other Seriousness                       171\n",
       "Hospitalization                         141\n",
       "Disability                               87\n",
       "Life Threatening                         79\n",
       "Required Intervention                    47\n",
       "Death                                    12\n",
       "Congenital Anomaly                        1\n",
       "Name: report_id, dtype: int64"
      ]
     },
     "execution_count": 35,
     "metadata": {},
     "output_type": "execute_result"
    }
   ],
   "source": [
    "# Veggies\n",
    "\n",
    "g=expl_aggReports[(expl_aggReports['description']==\"Vegetables/Vegetable Products\") & (expl_aggReports['product']!=\"EXEMPTION 4\")].groupby([\"outcomes\"])[\"report_id\"].count().sort_values(ascending=False)\n",
    "g\n",
    "# g.iloc[g.index.get_level_values('outcomes')==\"Hospitalization\"]\n",
    "\n",
    "\n",
    "\n",
    "# All: D: 1165 LT: 4905 H: 18365\n",
    "# Beta: D: 2  H: 336 (Max)\n",
    "# KRATOM: D: 124 (Max) H:  43"
   ]
  },
  {
   "cell_type": "code",
   "execution_count": 28,
   "metadata": {},
   "outputs": [
    {
     "data": {
      "text/html": [
       "<div>\n",
       "<style scoped>\n",
       "    .dataframe tbody tr th:only-of-type {\n",
       "        vertical-align: middle;\n",
       "    }\n",
       "\n",
       "    .dataframe tbody tr th {\n",
       "        vertical-align: top;\n",
       "    }\n",
       "\n",
       "    .dataframe thead th {\n",
       "        text-align: right;\n",
       "    }\n",
       "</style>\n",
       "<table border=\"1\" class=\"dataframe\">\n",
       "  <thead>\n",
       "    <tr style=\"text-align: right;\">\n",
       "      <th></th>\n",
       "      <th>description</th>\n",
       "      <th>product</th>\n",
       "      <th>report_id</th>\n",
       "    </tr>\n",
       "  </thead>\n",
       "  <tbody>\n",
       "    <tr>\n",
       "      <th>28377</th>\n",
       "      <td>Vegetables/Vegetable Products</td>\n",
       "      <td>QUORN</td>\n",
       "      <td>60</td>\n",
       "    </tr>\n",
       "    <tr>\n",
       "      <th>28502</th>\n",
       "      <td>Vegetables/Vegetable Products</td>\n",
       "      <td>QUORN NUGGETS</td>\n",
       "      <td>52</td>\n",
       "    </tr>\n",
       "    <tr>\n",
       "      <th>28418</th>\n",
       "      <td>Vegetables/Vegetable Products</td>\n",
       "      <td>QUORN CHICKEN PATTY</td>\n",
       "      <td>49</td>\n",
       "    </tr>\n",
       "    <tr>\n",
       "      <th>27132</th>\n",
       "      <td>Vegetables/Vegetable Products</td>\n",
       "      <td>CABBAGE</td>\n",
       "      <td>34</td>\n",
       "    </tr>\n",
       "    <tr>\n",
       "      <th>28414</th>\n",
       "      <td>Vegetables/Vegetable Products</td>\n",
       "      <td>QUORN CHICKEN CUTLETS</td>\n",
       "      <td>31</td>\n",
       "    </tr>\n",
       "    <tr>\n",
       "      <th>28603</th>\n",
       "      <td>Vegetables/Vegetable Products</td>\n",
       "      <td>ROMAINE LETTUCE</td>\n",
       "      <td>31</td>\n",
       "    </tr>\n",
       "    <tr>\n",
       "      <th>27172</th>\n",
       "      <td>Vegetables/Vegetable Products</td>\n",
       "      <td>CARROT</td>\n",
       "      <td>29</td>\n",
       "    </tr>\n",
       "    <tr>\n",
       "      <th>28402</th>\n",
       "      <td>Vegetables/Vegetable Products</td>\n",
       "      <td>QUORN CHICK'N NUGGETS</td>\n",
       "      <td>29</td>\n",
       "    </tr>\n",
       "    <tr>\n",
       "      <th>28484</th>\n",
       "      <td>Vegetables/Vegetable Products</td>\n",
       "      <td>QUORN MEATBALLS</td>\n",
       "      <td>28</td>\n",
       "    </tr>\n",
       "    <tr>\n",
       "      <th>27502</th>\n",
       "      <td>Vegetables/Vegetable Products</td>\n",
       "      <td>EXEMPTION 4</td>\n",
       "      <td>25</td>\n",
       "    </tr>\n",
       "  </tbody>\n",
       "</table>\n",
       "</div>"
      ],
      "text/plain": [
       "                         description                product  report_id\n",
       "28377  Vegetables/Vegetable Products                  QUORN         60\n",
       "28502  Vegetables/Vegetable Products          QUORN NUGGETS         52\n",
       "28418  Vegetables/Vegetable Products    QUORN CHICKEN PATTY         49\n",
       "27132  Vegetables/Vegetable Products                CABBAGE         34\n",
       "28414  Vegetables/Vegetable Products  QUORN CHICKEN CUTLETS         31\n",
       "28603  Vegetables/Vegetable Products        ROMAINE LETTUCE         31\n",
       "27172  Vegetables/Vegetable Products                 CARROT         29\n",
       "28402  Vegetables/Vegetable Products  QUORN CHICK'N NUGGETS         29\n",
       "28484  Vegetables/Vegetable Products        QUORN MEATBALLS         28\n",
       "27502  Vegetables/Vegetable Products            EXEMPTION 4         25"
      ]
     },
     "execution_count": 28,
     "metadata": {},
     "output_type": "execute_result"
    }
   ],
   "source": [
    "#Check all pairs of category\n",
    "s_product = aggReports.groupby([\"description\",\"product\"],as_index=False)['report_id'].count().sort_values(['description','report_id'],ascending=False)\n",
    "\n",
    "s_product[(s_product['description']==\"Vegetables/Vegetable Products\")].head(10)\n"
   ]
  },
  {
   "cell_type": "code",
   "execution_count": 7,
   "metadata": {},
   "outputs": [
    {
     "data": {
      "text/plain": [
       "product\n",
       "EXEMPTION 4                                                         19712\n",
       "SUPER BETA PROSTATE                                                  1106\n",
       "VITAMIN D                                                             838\n",
       "MULTIVITAMIN                                                          723\n",
       "FISH OIL                                                              701\n",
       "CALCIUM                                                               659\n",
       "CENTRUM SILVER WOMEN'S 50+ (MULTIMINERALS, MULTIVITAMINS) TABLET      618\n",
       "VITAMIN C                                                             545\n",
       "WEN CLEANSING CONDITIONER                                             413\n",
       "MAGNESIUM                                                             355\n",
       "Name: report_id, dtype: int64"
      ]
     },
     "execution_count": 7,
     "metadata": {},
     "output_type": "execute_result"
    }
   ],
   "source": [
    "# product: specific sub-category \n",
    "aggReports.groupby('product')['report_id'].count().sort_values(ascending=False).head(10)"
   ]
  },
  {
   "cell_type": "code",
   "execution_count": 25,
   "metadata": {},
   "outputs": [
    {
     "data": {
      "text/plain": [
       "Index(['Vit/Min/Prot/Unconv Diet(Human/Animal)', 'Cosmetics',\n",
       "       'Vegetables/Vegetable Products', 'Nuts/Edible Seed', 'Soft Drink/Water',\n",
       "       'Bakery Prod/Dough/Mix/Icing', 'Fruit/Fruit Prod',\n",
       "       'Fishery/Seafood Prod', 'Dietary Conventional Foods/Meal Replacements',\n",
       "       'Milk/Butter/Dried Milk Prod'],\n",
       "      dtype='object', name='description')"
      ]
     },
     "execution_count": 25,
     "metadata": {},
     "output_type": "execute_result"
    }
   ],
   "source": [
    "# description: broad category\n",
    "aggReports.groupby('description')['report_id'].count().sort_values(ascending=False).index[:10]"
   ]
  },
  {
   "cell_type": "code",
   "execution_count": 85,
   "metadata": {},
   "outputs": [
    {
     "data": {
      "text/plain": [
       "Other Outcome                          2503\n",
       "Patient Visited Healthcare Provider     587\n",
       "Patient Visited ER                      324\n",
       "Hospitalization                         191\n",
       "Medically Important                     153\n",
       "Life Threatening                         68\n",
       "Other Seriousness                        59\n",
       "Required Intervention                    40\n",
       "Disability                               35\n",
       "Death                                    20\n",
       "Congenital Anomaly                        3\n",
       "dtype: int64"
      ]
     },
     "execution_count": 85,
     "metadata": {},
     "output_type": "execute_result"
    }
   ],
   "source": [
    "aggReports[aggReports['description']==\"Nuts/Edible Seed\"][uniq_out].sum().sort_values(ascending=False)"
   ]
  },
  {
   "cell_type": "code",
   "execution_count": 105,
   "metadata": {},
   "outputs": [
    {
     "data": {
      "text/plain": [
       "Medically Important                    54.921104\n",
       "Patient Visited Healthcare Provider    23.506737\n",
       "Other Outcome                          19.572736\n",
       "Death                                  17.764248\n",
       "Hospitalization                         3.901578\n",
       "Patient Visited ER                      2.986526\n",
       "Disability                              1.639167\n",
       "Life Threatening                        0.929462\n",
       "Other Seriousness                       0.691692\n",
       "Required Intervention                   0.673680\n",
       "Congenital Anomaly                      0.032423\n",
       "dtype: float64"
      ]
     },
     "execution_count": 105,
     "metadata": {},
     "output_type": "execute_result"
    }
   ],
   "source": [
    "aggReports[aggReports['description']==\"Cosmetics\"][uniq_out].sum().sort_values(ascending=False)*100/27758"
   ]
  },
  {
   "cell_type": "code",
   "execution_count": 87,
   "metadata": {},
   "outputs": [
    {
     "data": {
      "text/plain": [
       "Medically Important                    54.921104\n",
       "Patient Visited Healthcare Provider    23.506737\n",
       "Other Outcome                          19.572736\n",
       "Death                                  17.764248\n",
       "Hospitalization                         3.901578\n",
       "Patient Visited ER                      2.986526\n",
       "Disability                              1.639167\n",
       "Life Threatening                        0.929462\n",
       "Other Seriousness                       0.691692\n",
       "Required Intervention                   0.673680\n",
       "Congenital Anomaly                      0.032423\n",
       "dtype: float64"
      ]
     },
     "execution_count": 87,
     "metadata": {},
     "output_type": "execute_result"
    }
   ],
   "source": [
    "aggReports[aggReports['description']==\"Cosmetics\"][uniq_out].sum().sort_values(ascending=False)*100/27758"
   ]
  },
  {
   "cell_type": "code",
   "execution_count": 80,
   "metadata": {},
   "outputs": [
    {
     "data": {
      "text/plain": [
       "description\n",
       "Vit/Min/Prot/Unconv Diet(Human/Animal)          67596\n",
       "Cosmetics                                       27758\n",
       "Vegetables/Vegetable Products                    3581\n",
       "Nuts/Edible Seed                                 3551\n",
       "Soft Drink/Water                                 2908\n",
       "Bakery Prod/Dough/Mix/Icing                      2905\n",
       "Fruit/Fruit Prod                                 2622\n",
       "Fishery/Seafood Prod                             2604\n",
       "Dietary Conventional Foods/Meal Replacements     1767\n",
       "Milk/Butter/Dried Milk Prod                      1680\n",
       "Name: report_id, dtype: int64"
      ]
     },
     "execution_count": 80,
     "metadata": {},
     "output_type": "execute_result"
    }
   ],
   "source": [
    "aggReports.groupby([\"description\"])['report_id'].count().sort_values(ascending=False)[:10]"
   ]
  },
  {
   "cell_type": "code",
   "execution_count": 76,
   "metadata": {},
   "outputs": [
    {
     "data": {
      "text/plain": [
       "product      description                                 \n",
       "EXEMPTION 4  Cosmetics                                       17094\n",
       "             Vit/Min/Prot/Unconv Diet(Human/Animal)           1347\n",
       "             Dietary Conventional Foods/Meal Replacements      221\n",
       "             Baby Food Products                                 72\n",
       "             Fishery/Seafood Prod                               46\n",
       "             Soft Drink/Water                                   42\n",
       "             Bakery Prod/Dough/Mix/Icing                        38\n",
       "             Fruit/Fruit Prod                                   31\n",
       "             Nuts/Edible Seed                                   26\n",
       "             Vegetables/Vegetable Products                      25\n",
       "Name: report_id, dtype: int64"
      ]
     },
     "execution_count": 76,
     "metadata": {},
     "output_type": "execute_result"
    }
   ],
   "source": [
    "aggReports[aggReports['product']==\"EXEMPTION 4\"].groupby([\"product\",\"description\"])['report_id'].count().sort_values(ascending=False)[:10]"
   ]
  },
  {
   "cell_type": "code",
   "execution_count": 59,
   "metadata": {},
   "outputs": [
    {
     "data": {
      "text/plain": [
       "outcomes\n",
       "Medically Important,                                                                                426\n",
       "Hospitalization, Medically Important,                                                               129\n",
       "Patient Visited Healthcare Provider, Medically Important,                                           112\n",
       "Hospitalization,                                                                                     91\n",
       "Medically Important, Patient Visited ER,                                                             80\n",
       "Medically Important, Other Seriousness,                                                              46\n",
       "Other Seriousness,                                                                                   43\n",
       "Hospitalization, Medically Important, Patient Visited ER,                                            42\n",
       "Hospitalization, Patient Visited ER,                                                                 19\n",
       "Hospitalization, Other Seriousness,                                                                  11\n",
       "Hospitalization, Patient Visited Healthcare Provider, Medically Important,                            9\n",
       "Patient Visited Healthcare Provider, Medically Important, Patient Visited ER,                         9\n",
       "Patient Visited Healthcare Provider, Medically Important, Other Seriousness,                          9\n",
       "Hospitalization, Patient Visited Healthcare Provider,                                                 8\n",
       "Patient Visited ER,                                                                                   6\n",
       "Medically Important, Other Seriousness, Patient Visited ER,                                           6\n",
       "Hospitalization, Patient Visited Healthcare Provider, Medically Important, Patient Visited ER,        6\n",
       "Hospitalization                                                                                       6\n",
       "Life Threatening, Medically Important,                                                                6\n",
       "Other Seriousness, Patient Visited ER,                                                                5\n",
       "Patient Visited Healthcare Provider, Other Seriousness,                                               5\n",
       "Life Threatening, Hospitalization,                                                                    4\n",
       "Life Threatening,                                                                                     4\n",
       "Life Threatening, Hospitalization, Medically Important,                                               2\n",
       "Life Threatening                                                                                      2\n",
       "Other Outcome                                                                                         2\n",
       "Hospitalization, Medically Important, Other Seriousness,                                              2\n",
       "Patient Visited ER                                                                                    1\n",
       "Patient Visited Healthcare Provider, Other Seriousness, Patient Visited ER,                           1\n",
       "Patient Visited Healthcare Provider, Medically Important, Other Seriousness, Patient Visited ER,      1\n",
       "Death,                                                                                                1\n",
       "Medically Important                                                                                   1\n",
       "Life Threatening, Patient Visited Healthcare Provider, Medically Important,                           1\n",
       "Life Threatening, Hospitalization, Medically Important, Patient Visited ER,                           1\n",
       "Death, Patient Visited Healthcare Provider,                                                           1\n",
       "Hospitalization, Patient Visited Healthcare Provider, Patient Visited ER, Required Intervention,      1\n",
       "Hospitalization, Patient Visited Healthcare Provider, Patient Visited ER,                             1\n",
       "Hospitalization, Patient Visited Healthcare Provider, Other Seriousness, Patient Visited ER,          1\n",
       "Hospitalization, Patient Visited Healthcare Provider, Other Seriousness,                              1\n",
       "Hospitalization, Patient Visited Healthcare Provider, Medically Important, Other Seriousness,         1\n",
       "Hospitalization, Patient Visited ER                                                                   1\n",
       "Disability, Patient Visited Healthcare Provider, Medically Important,                                 1\n",
       "Required Intervention                                                                                 1\n",
       "Name: report_id, dtype: int64"
      ]
     },
     "execution_count": 59,
     "metadata": {},
     "output_type": "execute_result"
    }
   ],
   "source": [
    "aggReports[(aggReports['product']==\"SUPER BETA PROSTATE\")].groupby(\"outcomes\")['report_id'].count().sort_values(ascending=False)"
   ]
  },
  {
   "cell_type": "code",
   "execution_count": 41,
   "metadata": {},
   "outputs": [],
   "source": [
    "\n",
    "def plot_bar(x,y):\n",
    "        fig = plt.figure(figsize = (10, 5))\n",
    "        #  Bar plot\n",
    "        plt.bar(x, y, color ='green',\n",
    "                width = 0.5)\n",
    "        plt.xlabel(\"x\")\n",
    "        plt.ylabel(\"y\")\n",
    "        plt.show()"
   ]
  },
  {
   "cell_type": "code",
   "execution_count": 64,
   "metadata": {},
   "outputs": [
    {
     "data": {
      "text/plain": [
       "report_id                 0.000000\n",
       "caers_created_date        0.000000\n",
       "date_of_event            38.439445\n",
       "product_type              0.000000\n",
       "product                   0.002286\n",
       "product_code              0.495958\n",
       "description               0.495958\n",
       "patient_age              39.411554\n",
       "age_units                39.314038\n",
       "sex                      40.522318\n",
       "medra_preferred_terms     0.817455\n",
       "outcomes                  0.000000\n",
       "dtype: float64"
      ]
     },
     "execution_count": 64,
     "metadata": {},
     "output_type": "execute_result"
    }
   ],
   "source": [
    "(aggReports.isnull().sum()/aggReports.shape[0])*100"
   ]
  },
  {
   "cell_type": "code",
   "execution_count": 57,
   "metadata": {},
   "outputs": [
    {
     "data": {
      "text/plain": [
       "131261"
      ]
     },
     "execution_count": 57,
     "metadata": {},
     "output_type": "execute_result"
    }
   ],
   "source": [
    "len(aggReports)"
   ]
  },
  {
   "cell_type": "code",
   "execution_count": 58,
   "metadata": {},
   "outputs": [
    {
     "data": {
      "text/plain": [
       "91776"
      ]
     },
     "execution_count": 58,
     "metadata": {},
     "output_type": "execute_result"
    }
   ],
   "source": [
    "aggReports_no_dupes = aggReports.copy()\n",
    "aggReports_no_dupes.drop_duplicates(subset = 'Report ID',inplace=True)\n",
    "\n",
    "len(aggReports_no_dupes)"
   ]
  },
  {
   "cell_type": "code",
   "execution_count": 60,
   "metadata": {},
   "outputs": [
    {
     "data": {
      "text/plain": [
       "Report ID                  0.000000\n",
       "CAERS Created Date         0.000000\n",
       "Date of Event             28.853201\n",
       "Product Type               0.000000\n",
       "Product                    0.001524\n",
       "Product Code               0.474627\n",
       "Description                0.474627\n",
       "Patient Age               33.466909\n",
       "Age Units                 33.391487\n",
       "Sex                       34.260748\n",
       "MedDRA Preferred Terms    41.396150\n",
       "Outcomes                   0.000000\n",
       "Medra Preferred Terms     29.271452\n",
       "dtype: float64"
      ]
     },
     "execution_count": 60,
     "metadata": {},
     "output_type": "execute_result"
    }
   ],
   "source": [
    "(aggReports_no_dupes.isnull().sum()/aggReports.shape[0])*100"
   ]
  },
  {
   "cell_type": "code",
   "execution_count": 68,
   "metadata": {},
   "outputs": [
    {
     "data": {
      "text/plain": [
       "Report ID                 91776\n",
       "CAERS Created Date         4927\n",
       "Date of Event              6503\n",
       "Product Type                  2\n",
       "Product                   42497\n",
       "Product Code                 48\n",
       "Description                  50\n",
       "Patient Age                 107\n",
       "Age Units                     5\n",
       "Sex                           4\n",
       "MedDRA Preferred Terms    18984\n",
       "Outcomes                    420\n",
       "Medra Preferred Terms     23531\n",
       "time_diff                  4785\n",
       "time_group                    6\n",
       "dtype: int64"
      ]
     },
     "execution_count": 68,
     "metadata": {},
     "output_type": "execute_result"
    }
   ],
   "source": [
    "aggReports_no_dupes.nunique()"
   ]
  },
  {
   "cell_type": "code",
   "execution_count": 63,
   "metadata": {},
   "outputs": [],
   "source": [
    "aggReports_no_dupes[\"CAERS Created Date\"] = pd.to_datetime(aggReports_no_dupes[\"CAERS Created Date\"])\n",
    "aggReports_no_dupes[\"Date of Event\"] = pd.to_datetime(aggReports_no_dupes[\"Date of Event\"])\n",
    "\n",
    "aggReports_no_dupes[\"time_diff\"] = (aggReports_no_dupes['CAERS Created Date']-aggReports_no_dupes['Date of Event']).dt.days\n",
    "\n",
    "# Group the Time difference by different periods\n",
    "time_list = (0,180,366,1098,1830,3660)\n",
    "time_cat = ['less than 6 Months','less than 1 year','1 to 3 years','3 to 5 years','5 to 10 Years']\n",
    "aggReports_no_dupes['time_group'] = pd.cut(aggReports_no_dupes['time_diff'],time_list,labels= time_cat)\n",
    "\n",
    "aggReports_no_dupes['time_group'] = aggReports_no_dupes['time_group'].astype('str')\n",
    "aggReports_no_dupes['time_group'] = aggReports_no_dupes['time_group'].replace('nan','Unknown')"
   ]
  },
  {
   "cell_type": "code",
   "execution_count": 72,
   "metadata": {},
   "outputs": [
    {
     "data": {
      "text/plain": [
       "time_group\n",
       "1 to 3 years           5304\n",
       "3 to 5 years           2627\n",
       "5 to 10 Years          2931\n",
       "Unknown               40120\n",
       "less than 1 year       3546\n",
       "less than 6 Months    37248\n",
       "Name: Report ID, dtype: int64"
      ]
     },
     "execution_count": 72,
     "metadata": {},
     "output_type": "execute_result"
    }
   ],
   "source": [
    "aggReports_no_dupes.groupby('time_group')['Report ID'].count()"
   ]
  },
  {
   "cell_type": "code",
   "execution_count": null,
   "metadata": {},
   "outputs": [],
   "source": [
    "def brand_product_plot( base_df, category,filename,title,first_word=True,trim_len=2):\n",
    "    \n",
    "    relv_outcomes = [\"Death\",\"Life Threatening\",\"Hospitalization\",\"Disability\",\"Patient Visited ER\"]\n",
    "    data = []\n",
    "\n",
    "\n",
    "    df = base_df[(base_df['category']==category) & (base_df['product']!=\"EXEMPTION 4\")].copy()\n",
    "    df.dropna(inplace=True)\n",
    "\n",
    "    df['brand'] =df['product'].apply(brand_preprocess,first_word=first_word,trim_len=trim_len)\n",
    "    df=df.groupby(['outcomes','brand'])['report_id'].count().sort_values(ascending=False)\n",
    "\n",
    "    for i,outcome in enumerate(relv_outcomes):        \n",
    "        top_brands = list(df.iloc[df.index.get_level_values('outcomes')==outcome].reset_index()[:5]['brand'])\n",
    "\n",
    "        brand_count = list(df.iloc[df.index.get_level_values('outcomes')==outcome].reset_index()[:5]['report_id'])\n",
    "\n",
    "        data.append(go.Bar(name=outcome, x = top_brands,y = brand_count))\n",
    "\n",
    "    fig = go.Figure(data=data)\n",
    "    fig.layout.update(title=f\"{title} Products vs Outcomes\", height = 500, width = 1500,barmode = \"stack\")\n",
    "\n",
    "    fig.show()\n",
    "    # plot(fig, filename =f\"../reports/figures/brands_vs_outcomes_{filename}.html\")"
   ]
  },
  {
   "cell_type": "code",
   "execution_count": null,
   "metadata": {},
   "outputs": [],
   "source": [
    "aggReports"
   ]
  }
 ],
 "metadata": {
  "interpreter": {
   "hash": "751573683e24ccd8408e30aa08d302f09a2e3ffe5490b3abaa025a17d3d9d43c"
  },
  "kernelspec": {
   "display_name": "Python 3.8.11 64-bit ('ece143': conda)",
   "name": "python3"
  },
  "language_info": {
   "codemirror_mode": {
    "name": "ipython",
    "version": 3
   },
   "file_extension": ".py",
   "mimetype": "text/x-python",
   "name": "python",
   "nbconvert_exporter": "python",
   "pygments_lexer": "ipython3",
   "version": "3.8.11"
  },
  "orig_nbformat": 4
 },
 "nbformat": 4,
 "nbformat_minor": 2
}
